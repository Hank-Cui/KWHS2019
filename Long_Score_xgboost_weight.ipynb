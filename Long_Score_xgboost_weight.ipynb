{
  "nbformat": 4,
  "nbformat_minor": 0,
  "metadata": {
    "colab": {
      "name": "Long_Score_xgboost_weight.ipynb",
      "provenance": [],
      "collapsed_sections": [],
      "machine_shape": "hm",
      "include_colab_link": true
    },
    "kernelspec": {
      "name": "python3",
      "display_name": "Python 3"
    }
  },
  "cells": [
    {
      "cell_type": "markdown",
      "metadata": {
        "id": "view-in-github",
        "colab_type": "text"
      },
      "source": [
        "<a href=\"https://colab.research.google.com/github/Hank-Cui/KWHS2019/blob/master/Long_Score_xgboost_weight.ipynb\" target=\"_parent\"><img src=\"https://colab.research.google.com/assets/colab-badge.svg\" alt=\"Open In Colab\"/></a>"
      ]
    },
    {
      "cell_type": "code",
      "metadata": {
        "id": "6bNzl8BvwPrE",
        "colab_type": "code",
        "colab": {}
      },
      "source": [
        "#KWHS 2019\n",
        "#Long Term Score Prediction\n",
        "#Analysis of Data for the past 5 years"
      ],
      "execution_count": 0,
      "outputs": []
    },
    {
      "cell_type": "code",
      "metadata": {
        "id": "Ajk27_NMB7pu",
        "colab_type": "code",
        "colab": {}
      },
      "source": [
        "############## STARTS HERE ################"
      ],
      "execution_count": 0,
      "outputs": []
    },
    {
      "cell_type": "code",
      "metadata": {
        "id": "5OcplTiMUlFv",
        "colab_type": "code",
        "outputId": "15261eaa-9650-4bed-a42b-22ef63773393",
        "colab": {
          "base_uri": "https://localhost:8080/",
          "height": 122
        }
      },
      "source": [
        "# Mount Google Drive\n",
        "\n",
        "from google.colab import drive\n",
        "drive.mount('/gdrive')"
      ],
      "execution_count": 0,
      "outputs": [
        {
          "output_type": "stream",
          "text": [
            "Go to this URL in a browser: https://accounts.google.com/o/oauth2/auth?client_id=947318989803-6bn6qk8qdgf4n4g3pfee6491hc0brc4i.apps.googleusercontent.com&redirect_uri=urn%3aietf%3awg%3aoauth%3a2.0%3aoob&response_type=code&scope=email%20https%3a%2f%2fwww.googleapis.com%2fauth%2fdocs.test%20https%3a%2f%2fwww.googleapis.com%2fauth%2fdrive%20https%3a%2f%2fwww.googleapis.com%2fauth%2fdrive.photos.readonly%20https%3a%2f%2fwww.googleapis.com%2fauth%2fpeopleapi.readonly\n",
            "\n",
            "Enter your authorization code:\n",
            "··········\n",
            "Mounted at /gdrive\n"
          ],
          "name": "stdout"
        }
      ]
    },
    {
      "cell_type": "code",
      "metadata": {
        "id": "_kpknIfBKLLC",
        "colab_type": "code",
        "outputId": "cdbde8ed-aec4-4e67-ce5a-1ddc126ae51c",
        "colab": {
          "base_uri": "https://localhost:8080/",
          "height": 68
        }
      },
      "source": [
        "import pandas as pd\n",
        "import numpy as np\n",
        "from math import tanh\n",
        "from sklearn.model_selection import train_test_split\n",
        "\n",
        "%pip install --upgrade xgboost\n",
        "import xgboost as xgb\n",
        "import matplotlib.pyplot as plt"
      ],
      "execution_count": 0,
      "outputs": [
        {
          "output_type": "stream",
          "text": [
            "Requirement already up-to-date: xgboost in /usr/local/lib/python3.6/dist-packages (0.90)\n",
            "Requirement already satisfied, skipping upgrade: scipy in /usr/local/lib/python3.6/dist-packages (from xgboost) (1.3.2)\n",
            "Requirement already satisfied, skipping upgrade: numpy in /usr/local/lib/python3.6/dist-packages (from xgboost) (1.17.4)\n"
          ],
          "name": "stdout"
        }
      ]
    },
    {
      "cell_type": "code",
      "metadata": {
        "id": "ku6doZgEHKxv",
        "colab_type": "code",
        "colab": {}
      },
      "source": [
        "# Pandas Settings\n",
        "\n",
        "pd.set_option('display.max_rows', 500)\n",
        "pd.set_option('display.max_columns', 1000)\n",
        "pd.set_option('display.width', 1000)"
      ],
      "execution_count": 0,
      "outputs": []
    },
    {
      "cell_type": "code",
      "metadata": {
        "id": "-BnJ_OQkHJWq",
        "colab_type": "code",
        "colab": {}
      },
      "source": [
        "# Read the data using Pandsa\n",
        "\n",
        "df_useful = pd.read_csv('/gdrive/My Drive/Blair/10/KWHS2019/useful_annual(1).csv')\n",
        "df_otis = pd.read_csv(\"/gdrive/My Drive/Blair/10/KWHS2019/KWHS_list.csv\")"
      ],
      "execution_count": 0,
      "outputs": []
    },
    {
      "cell_type": "code",
      "metadata": {
        "colab_type": "code",
        "id": "qZwwJl0UBkVm",
        "colab": {}
      },
      "source": [
        "# Returns increased percentages of gross profit\n",
        "\n",
        "def gross_profit(df_uf):\n",
        "    d = df_uf.copy()\n",
        "\n",
        "    gp = np.array(d['gp'], dtype=np.float32)\n",
        "\n",
        "    annual_growth = np.diff(gp)  # Get annual difference\n",
        "    growth_rate =  annual_growth / gp[:-1]  # Calculate the annual growth rate\n",
        "    growth_rate = pd.DataFrame(growth_rate)  # Store the growth rates in pd\n",
        "    d[\"gp_ma\"] = growth_rate.rolling(window=3).mean()\n",
        "    d[\"gp_ma\"] = d[\"gp_ma\"].shift(1)\n",
        "\n",
        "    return d"
      ],
      "execution_count": 0,
      "outputs": []
    },
    {
      "cell_type": "code",
      "metadata": {
        "id": "rz0FUj-eGtji",
        "colab_type": "code",
        "colab": {}
      },
      "source": [
        "def revenue_growth(df_uf):  # Return increase percentage\n",
        "    d = df_uf.copy()\n",
        "    \n",
        "    revt = np.array(d['revt'], dtype=np.float32)\n",
        "\n",
        "    annual_growth = np.diff(revt)  # Get annual difference\n",
        "    growth_rate =  annual_growth / revt[:-1]  # Calculate the annual growth rate\n",
        "    growth_rate = pd.DataFrame(growth_rate)  # Store the growth rates in pd\n",
        "    d[\"revt_ma\"] = growth_rate.rolling(window=3).mean()\n",
        "    d[\"revt_ma\"] = d[\"revt_ma\"].shift(1)\n",
        "\n",
        "    return d"
      ],
      "execution_count": 0,
      "outputs": []
    },
    {
      "cell_type": "code",
      "metadata": {
        "id": "e7TUANTFNNe4",
        "colab_type": "code",
        "colab": {}
      },
      "source": [
        "def free_cash_flow(df_uf):  # Returns increased percentages \n",
        "    d = df_uf.copy()\n",
        "\n",
        "    oancf = np.array(d['oancf'], dtype=np.float32)\n",
        "    capx = np.array(d['capx'], dtype=np.float32)\n",
        "    \n",
        "    diff = oancf-capx\n",
        "\n",
        "    annual_growth = np.diff(diff)  # Get annual difference\n",
        "    growth_rate =  annual_growth / diff[:-1]  # Calculate the annual growth rate\n",
        "    growth_rate = pd.DataFrame(growth_rate)  # Store the growth rates in pd\n",
        "    d[\"cash_flow_ma\"] = growth_rate.rolling(window=3).mean()\n",
        "    d[\"cash_flow_ma\"] = d[\"cash_flow_ma\"].shift(1)\n",
        "\n",
        "    return d"
      ],
      "execution_count": 0,
      "outputs": []
    },
    {
      "cell_type": "code",
      "metadata": {
        "id": "asDkBcSROv0d",
        "colab_type": "code",
        "colab": {}
      },
      "source": [
        "def ebit(df_uf):  # Finalized. Returns increased percentages\n",
        "    d = df_uf.copy()\n",
        "    \n",
        "    ebit = np.array(d['ebit'], dtype=np.float32)\n",
        "\n",
        "    annual_growth = np.diff(ebit)  # Get annual difference\n",
        "    growth_rate =  annual_growth / ebit[:-1]  # Calculate the annual growth rate\n",
        "    growth_rate = pd.DataFrame(growth_rate)  # Store the growth rates in pd\n",
        "    d[\"ebit_ma\"] = growth_rate.rolling(window=3).mean()\n",
        "    d[\"ebit_ma\"] = d[\"ebit_ma\"].shift(1)\n",
        "\n",
        "    return d"
      ],
      "execution_count": 0,
      "outputs": []
    },
    {
      "cell_type": "code",
      "metadata": {
        "id": "YbjJQ64y-1Ww",
        "colab_type": "code",
        "colab": {}
      },
      "source": [
        "def roa(df_uf):  # Returns average yearly values\n",
        "    d = df_uf.copy()\n",
        "\n",
        "    ni = np.array(d['ni'], dtype=np.float32)\n",
        "    at = np.array(d['at'], dtype=np.float32)\n",
        "    lt = np.array(d['lt'], dtype=np.float32)\n",
        "\n",
        "    roa = ni/abs(at-lt)\n",
        "\n",
        "    growth_rate = pd.DataFrame(roa)  # Store the growth rates in pd\n",
        "    d[\"roa_growth_rate\"] = growth_rate.rolling(window=3).mean()\n",
        "\n",
        "    return d"
      ],
      "execution_count": 0,
      "outputs": []
    },
    {
      "cell_type": "code",
      "metadata": {
        "id": "y7031ge0hMrW",
        "colab_type": "code",
        "colab": {}
      },
      "source": [
        "def optdr(df_uf):  # Finalized Returns increased percentages\n",
        "    d = df_uf.copy()\n",
        "    \n",
        "    optdr = np.array(d['optdr'], dtype=np.float32)\n",
        "\n",
        "    annual_growth = np.diff(optdr)  # Get annual difference\n",
        "    growth_rate =  annual_growth / optdr[:-1]  # Calculate the annual growth rate\n",
        "    growth_rate = pd.DataFrame(growth_rate)  # Store the growth rates in pd\n",
        "    d[\"optdr_ma\"] = growth_rate.rolling(window=3).mean()\n",
        "    d[\"optdr_ma\"] = d[\"optdr_ma\"].shift(1)\n",
        "\n",
        "    return d"
      ],
      "execution_count": 0,
      "outputs": []
    },
    {
      "cell_type": "code",
      "metadata": {
        "id": "uLXMXaPXKrGw",
        "colab_type": "code",
        "colab": {}
      },
      "source": [
        "def roe(df_uf):  # Returns average yearly values\n",
        "    d = df_uf.copy()\n",
        "    \n",
        "    ni = np.array(d['ni'], dtype=np.float32)\n",
        "    teq = np.array(d['teq'], dtype=np.float32)\n",
        "\n",
        "    roe = ni/teq\n",
        "    growth_rate = pd.DataFrame(roe)  # Store the growth rates in pd\n",
        "    d[\"roe_ma\"] = growth_rate.rolling(window=3).mean()\n",
        "    d[\"roe_ma\"] = d[\"roe_ma\"]\n",
        "\n",
        "    return d"
      ],
      "execution_count": 0,
      "outputs": []
    },
    {
      "cell_type": "code",
      "metadata": {
        "id": "2rsXvEnbjKVf",
        "colab_type": "code",
        "colab": {}
      },
      "source": [
        "def fundamentals(company_name):\n",
        "\n",
        "    df_u = df_useful[df_useful['tic']==company_name]\n",
        "    df_u = df_u.dropna(subset = ['gp'])  # Drop the rows that have no data\n",
        "    df_u = df_u.fillna(0)\n",
        "    df_u = df_u.reset_index()\n",
        "\n",
        "    df_u = gross_profit(df_u)\n",
        "    df_u = free_cash_flow(df_u)\n",
        "    df_u = revenue_growth(df_u)\n",
        "    df_u = ebit(df_u)\n",
        "    df_u = optdr(df_u)\n",
        "    df_u = roa(df_u)\n",
        "\n",
        "    return df_u.drop(columns='tic')"
      ],
      "execution_count": 0,
      "outputs": []
    },
    {
      "cell_type": "code",
      "metadata": {
        "id": "u1dSsU3_pwLo",
        "colab_type": "code",
        "colab": {}
      },
      "source": [
        "\n",
        "price_df = pd.DataFrame([])\n",
        "\n",
        "df = pd.read_csv(\"/gdrive/My Drive/Blair/10/KWHS2019/KWHS_list.csv\")\n",
        "stocks = df['TICKER']\n",
        "\n",
        "for i in stocks:\n",
        "    df_ = pd.read_csv(\"/gdrive/My Drive/Blair/10/KWHS2019/hist_data/\"+comp_tic+\".csv\")\n",
        "    for i in range(10):\n",
        "        year = str(2009+i)\n",
        "        \n"
      ],
      "execution_count": 0,
      "outputs": []
    },
    {
      "cell_type": "code",
      "metadata": {
        "id": "fBdYtjMYqJyb",
        "colab_type": "code",
        "outputId": "5b53f3dd-56f6-452e-d2fa-c2a25ba5f94c",
        "colab": {
          "base_uri": "https://localhost:8080/",
          "height": 34
        }
      },
      "source": [
        "def get_annual_close(comp_tic):\n",
        "    df = pd.read_csv(\"/gdrive/My Drive/Blair/10/KWHS2019/hist_data/\"+comp_tic+\".csv\")\n",
        "    dl = df[\"Date\"].tolist()\n",
        "    dates = []\n",
        "    d_list = dl\n",
        "    for i in range(1019):\n",
        "        year = str(1000+i)\n",
        "        if year+\"-12-31\" in d_list:\n",
        "            dates.append(year+\"-12-31\")\n",
        "            continue\n",
        "        elif year+\"-12-30\" in d_list:\n",
        "            dates.append(year+\"-12-30\")\n",
        "            continue\n",
        "        elif year+\"-12-29\" in d_list:\n",
        "            dates.append(year+\"-12-29\")\n",
        "            continue\n",
        "    data = df[df['Date'].isin(dates)]\n",
        "    data = np.array(data['Close'])\n",
        "    return data"
      ],
      "execution_count": 0,
      "outputs": [
        {
          "output_type": "execute_result",
          "data": {
            "text/plain": [
              "33"
            ]
          },
          "metadata": {
            "tags": []
          },
          "execution_count": 331
        }
      ]
    },
    {
      "cell_type": "code",
      "metadata": {
        "id": "_f7GMHwr6_6y",
        "colab_type": "code",
        "outputId": "a8f8091b-b887-459b-baaa-b428a0a8c615",
        "colab": {
          "base_uri": "https://localhost:8080/",
          "height": 1000
        }
      },
      "source": [
        "fundamentals(\"ADBE\")[[\"gp_ma\", \"cash_flow_ma\", \"revt_ma\", \"ebit_ma\",\"optdr_ma\", \"roa_growth_rate\"]]"
      ],
      "execution_count": 0,
      "outputs": [
        {
          "output_type": "stream",
          "text": [
            "/usr/local/lib/python3.6/dist-packages/ipykernel_launcher.py:7: RuntimeWarning: divide by zero encountered in true_divide\n",
            "  import sys\n",
            "/usr/local/lib/python3.6/dist-packages/ipykernel_launcher.py:7: RuntimeWarning: invalid value encountered in true_divide\n",
            "  import sys\n"
          ],
          "name": "stderr"
        },
        {
          "output_type": "execute_result",
          "data": {
            "text/html": [
              "<div>\n",
              "<style scoped>\n",
              "    .dataframe tbody tr th:only-of-type {\n",
              "        vertical-align: middle;\n",
              "    }\n",
              "\n",
              "    .dataframe tbody tr th {\n",
              "        vertical-align: top;\n",
              "    }\n",
              "\n",
              "    .dataframe thead th {\n",
              "        text-align: right;\n",
              "    }\n",
              "</style>\n",
              "<table border=\"1\" class=\"dataframe\">\n",
              "  <thead>\n",
              "    <tr style=\"text-align: right;\">\n",
              "      <th></th>\n",
              "      <th>gp_ma</th>\n",
              "      <th>cash_flow_ma</th>\n",
              "      <th>revt_ma</th>\n",
              "      <th>ebit_ma</th>\n",
              "      <th>optdr_ma</th>\n",
              "      <th>roa_growth_rate</th>\n",
              "    </tr>\n",
              "  </thead>\n",
              "  <tbody>\n",
              "    <tr>\n",
              "      <th>0</th>\n",
              "      <td>NaN</td>\n",
              "      <td>NaN</td>\n",
              "      <td>NaN</td>\n",
              "      <td>NaN</td>\n",
              "      <td>NaN</td>\n",
              "      <td>NaN</td>\n",
              "    </tr>\n",
              "    <tr>\n",
              "      <th>1</th>\n",
              "      <td>NaN</td>\n",
              "      <td>NaN</td>\n",
              "      <td>NaN</td>\n",
              "      <td>NaN</td>\n",
              "      <td>NaN</td>\n",
              "      <td>NaN</td>\n",
              "    </tr>\n",
              "    <tr>\n",
              "      <th>2</th>\n",
              "      <td>NaN</td>\n",
              "      <td>NaN</td>\n",
              "      <td>NaN</td>\n",
              "      <td>NaN</td>\n",
              "      <td>NaN</td>\n",
              "      <td>0.249985</td>\n",
              "    </tr>\n",
              "    <tr>\n",
              "      <th>3</th>\n",
              "      <td>3.007565</td>\n",
              "      <td>-1.861424</td>\n",
              "      <td>1.686489</td>\n",
              "      <td>4.076286</td>\n",
              "      <td>NaN</td>\n",
              "      <td>0.373025</td>\n",
              "    </tr>\n",
              "    <tr>\n",
              "      <th>4</th>\n",
              "      <td>0.985881</td>\n",
              "      <td>-2.091494</td>\n",
              "      <td>1.008656</td>\n",
              "      <td>0.992625</td>\n",
              "      <td>NaN</td>\n",
              "      <td>0.476891</td>\n",
              "    </tr>\n",
              "    <tr>\n",
              "      <th>5</th>\n",
              "      <td>0.616121</td>\n",
              "      <td>-2.558866</td>\n",
              "      <td>0.655662</td>\n",
              "      <td>0.611344</td>\n",
              "      <td>NaN</td>\n",
              "      <td>0.473524</td>\n",
              "    </tr>\n",
              "    <tr>\n",
              "      <th>6</th>\n",
              "      <td>0.333213</td>\n",
              "      <td>0.466647</td>\n",
              "      <td>0.401701</td>\n",
              "      <td>0.322753</td>\n",
              "      <td>NaN</td>\n",
              "      <td>0.409029</td>\n",
              "    </tr>\n",
              "    <tr>\n",
              "      <th>7</th>\n",
              "      <td>0.153508</td>\n",
              "      <td>0.231692</td>\n",
              "      <td>0.303129</td>\n",
              "      <td>0.138977</td>\n",
              "      <td>NaN</td>\n",
              "      <td>0.282759</td>\n",
              "    </tr>\n",
              "    <tr>\n",
              "      <th>8</th>\n",
              "      <td>0.127099</td>\n",
              "      <td>0.330078</td>\n",
              "      <td>0.232584</td>\n",
              "      <td>0.098608</td>\n",
              "      <td>NaN</td>\n",
              "      <td>0.226951</td>\n",
              "    </tr>\n",
              "    <tr>\n",
              "      <th>9</th>\n",
              "      <td>0.301003</td>\n",
              "      <td>0.202472</td>\n",
              "      <td>0.414572</td>\n",
              "      <td>0.210887</td>\n",
              "      <td>NaN</td>\n",
              "      <td>0.137424</td>\n",
              "    </tr>\n",
              "    <tr>\n",
              "      <th>10</th>\n",
              "      <td>0.433557</td>\n",
              "      <td>0.279431</td>\n",
              "      <td>0.453682</td>\n",
              "      <td>0.368167</td>\n",
              "      <td>NaN</td>\n",
              "      <td>0.117316</td>\n",
              "    </tr>\n",
              "    <tr>\n",
              "      <th>11</th>\n",
              "      <td>0.383065</td>\n",
              "      <td>0.180472</td>\n",
              "      <td>0.404702</td>\n",
              "      <td>0.325222</td>\n",
              "      <td>NaN</td>\n",
              "      <td>0.114905</td>\n",
              "    </tr>\n",
              "    <tr>\n",
              "      <th>12</th>\n",
              "      <td>0.218697</td>\n",
              "      <td>0.155680</td>\n",
              "      <td>0.155472</td>\n",
              "      <td>0.242799</td>\n",
              "      <td>NaN</td>\n",
              "      <td>0.197352</td>\n",
              "    </tr>\n",
              "    <tr>\n",
              "      <th>13</th>\n",
              "      <td>0.004922</td>\n",
              "      <td>0.011825</td>\n",
              "      <td>0.057454</td>\n",
              "      <td>-0.003366</td>\n",
              "      <td>NaN</td>\n",
              "      <td>0.220609</td>\n",
              "    </tr>\n",
              "    <tr>\n",
              "      <th>14</th>\n",
              "      <td>0.189389</td>\n",
              "      <td>0.333976</td>\n",
              "      <td>0.091804</td>\n",
              "      <td>0.262077</td>\n",
              "      <td>NaN</td>\n",
              "      <td>0.309649</td>\n",
              "    </tr>\n",
              "    <tr>\n",
              "      <th>15</th>\n",
              "      <td>0.211449</td>\n",
              "      <td>0.424852</td>\n",
              "      <td>0.121068</td>\n",
              "      <td>0.296573</td>\n",
              "      <td>NaN</td>\n",
              "      <td>0.350079</td>\n",
              "    </tr>\n",
              "    <tr>\n",
              "      <th>16</th>\n",
              "      <td>0.831034</td>\n",
              "      <td>0.449787</td>\n",
              "      <td>0.117670</td>\n",
              "      <td>0.379933</td>\n",
              "      <td>NaN</td>\n",
              "      <td>0.393309</td>\n",
              "    </tr>\n",
              "    <tr>\n",
              "      <th>17</th>\n",
              "      <td>0.632213</td>\n",
              "      <td>0.039279</td>\n",
              "      <td>0.055127</td>\n",
              "      <td>0.067713</td>\n",
              "      <td>NaN</td>\n",
              "      <td>0.333199</td>\n",
              "    </tr>\n",
              "    <tr>\n",
              "      <th>18</th>\n",
              "      <td>0.553585</td>\n",
              "      <td>0.006488</td>\n",
              "      <td>0.009942</td>\n",
              "      <td>-0.017121</td>\n",
              "      <td>NaN</td>\n",
              "      <td>0.286369</td>\n",
              "    </tr>\n",
              "    <tr>\n",
              "      <th>19</th>\n",
              "      <td>0.118558</td>\n",
              "      <td>0.232822</td>\n",
              "      <td>0.115319</td>\n",
              "      <td>0.189209</td>\n",
              "      <td>NaN</td>\n",
              "      <td>0.280734</td>\n",
              "    </tr>\n",
              "    <tr>\n",
              "      <th>20</th>\n",
              "      <td>0.200023</td>\n",
              "      <td>0.332203</td>\n",
              "      <td>0.192871</td>\n",
              "      <td>0.328036</td>\n",
              "      <td>NaN</td>\n",
              "      <td>0.293906</td>\n",
              "    </tr>\n",
              "    <tr>\n",
              "      <th>21</th>\n",
              "      <td>0.258865</td>\n",
              "      <td>0.304300</td>\n",
              "      <td>0.258914</td>\n",
              "      <td>0.196614</td>\n",
              "      <td>NaN</td>\n",
              "      <td>0.245980</td>\n",
              "    </tr>\n",
              "    <tr>\n",
              "      <th>22</th>\n",
              "      <td>0.234634</td>\n",
              "      <td>0.295192</td>\n",
              "      <td>0.238592</td>\n",
              "      <td>0.169506</td>\n",
              "      <td>NaN</td>\n",
              "      <td>0.192398</td>\n",
              "    </tr>\n",
              "    <tr>\n",
              "      <th>23</th>\n",
              "      <td>0.214391</td>\n",
              "      <td>0.227170</td>\n",
              "      <td>0.223187</td>\n",
              "      <td>0.170360</td>\n",
              "      <td>NaN</td>\n",
              "      <td>0.150504</td>\n",
              "    </tr>\n",
              "    <tr>\n",
              "      <th>24</th>\n",
              "      <td>0.052672</td>\n",
              "      <td>0.099000</td>\n",
              "      <td>0.060915</td>\n",
              "      <td>0.134711</td>\n",
              "      <td>NaN</td>\n",
              "      <td>0.144121</td>\n",
              "    </tr>\n",
              "    <tr>\n",
              "      <th>25</th>\n",
              "      <td>0.068378</td>\n",
              "      <td>-0.102266</td>\n",
              "      <td>0.082158</td>\n",
              "      <td>0.104155</td>\n",
              "      <td>NaN</td>\n",
              "      <td>0.141967</td>\n",
              "    </tr>\n",
              "    <tr>\n",
              "      <th>26</th>\n",
              "      <td>0.066952</td>\n",
              "      <td>0.070698</td>\n",
              "      <td>0.074127</td>\n",
              "      <td>0.085614</td>\n",
              "      <td>NaN</td>\n",
              "      <td>0.124080</td>\n",
              "    </tr>\n",
              "    <tr>\n",
              "      <th>27</th>\n",
              "      <td>0.143369</td>\n",
              "      <td>0.093245</td>\n",
              "      <td>0.147981</td>\n",
              "      <td>0.183387</td>\n",
              "      <td>NaN</td>\n",
              "      <td>0.139384</td>\n",
              "    </tr>\n",
              "    <tr>\n",
              "      <th>28</th>\n",
              "      <td>0.017609</td>\n",
              "      <td>0.039603</td>\n",
              "      <td>0.024956</td>\n",
              "      <td>-0.152379</td>\n",
              "      <td>NaN</td>\n",
              "      <td>0.104027</td>\n",
              "    </tr>\n",
              "    <tr>\n",
              "      <th>29</th>\n",
              "      <td>-0.012487</td>\n",
              "      <td>-0.037248</td>\n",
              "      <td>-0.004010</td>\n",
              "      <td>-0.216590</td>\n",
              "      <td>NaN</td>\n",
              "      <td>0.069226</td>\n",
              "    </tr>\n",
              "    <tr>\n",
              "      <th>30</th>\n",
              "      <td>0.020974</td>\n",
              "      <td>0.031438</td>\n",
              "      <td>0.033294</td>\n",
              "      <td>0.129425</td>\n",
              "      <td>NaN</td>\n",
              "      <td>0.057550</td>\n",
              "    </tr>\n",
              "    <tr>\n",
              "      <th>31</th>\n",
              "      <td>0.130612</td>\n",
              "      <td>0.287980</td>\n",
              "      <td>0.133274</td>\n",
              "      <td>0.558162</td>\n",
              "      <td>NaN</td>\n",
              "      <td>0.095647</td>\n",
              "    </tr>\n",
              "    <tr>\n",
              "      <th>32</th>\n",
              "      <td>0.201468</td>\n",
              "      <td>0.350528</td>\n",
              "      <td>0.208118</td>\n",
              "      <td>0.714117</td>\n",
              "      <td>NaN</td>\n",
              "      <td>0.149188</td>\n",
              "    </tr>\n",
              "    <tr>\n",
              "      <th>33</th>\n",
              "      <td>0.233882</td>\n",
              "      <td>0.433278</td>\n",
              "      <td>0.234908</td>\n",
              "      <td>0.476973</td>\n",
              "      <td>NaN</td>\n",
              "      <td>0.211460</td>\n",
              "    </tr>\n",
              "  </tbody>\n",
              "</table>\n",
              "</div>"
            ],
            "text/plain": [
              "       gp_ma  cash_flow_ma   revt_ma   ebit_ma  optdr_ma  roa_growth_rate\n",
              "0        NaN           NaN       NaN       NaN       NaN              NaN\n",
              "1        NaN           NaN       NaN       NaN       NaN              NaN\n",
              "2        NaN           NaN       NaN       NaN       NaN         0.249985\n",
              "3   3.007565     -1.861424  1.686489  4.076286       NaN         0.373025\n",
              "4   0.985881     -2.091494  1.008656  0.992625       NaN         0.476891\n",
              "5   0.616121     -2.558866  0.655662  0.611344       NaN         0.473524\n",
              "6   0.333213      0.466647  0.401701  0.322753       NaN         0.409029\n",
              "7   0.153508      0.231692  0.303129  0.138977       NaN         0.282759\n",
              "8   0.127099      0.330078  0.232584  0.098608       NaN         0.226951\n",
              "9   0.301003      0.202472  0.414572  0.210887       NaN         0.137424\n",
              "10  0.433557      0.279431  0.453682  0.368167       NaN         0.117316\n",
              "11  0.383065      0.180472  0.404702  0.325222       NaN         0.114905\n",
              "12  0.218697      0.155680  0.155472  0.242799       NaN         0.197352\n",
              "13  0.004922      0.011825  0.057454 -0.003366       NaN         0.220609\n",
              "14  0.189389      0.333976  0.091804  0.262077       NaN         0.309649\n",
              "15  0.211449      0.424852  0.121068  0.296573       NaN         0.350079\n",
              "16  0.831034      0.449787  0.117670  0.379933       NaN         0.393309\n",
              "17  0.632213      0.039279  0.055127  0.067713       NaN         0.333199\n",
              "18  0.553585      0.006488  0.009942 -0.017121       NaN         0.286369\n",
              "19  0.118558      0.232822  0.115319  0.189209       NaN         0.280734\n",
              "20  0.200023      0.332203  0.192871  0.328036       NaN         0.293906\n",
              "21  0.258865      0.304300  0.258914  0.196614       NaN         0.245980\n",
              "22  0.234634      0.295192  0.238592  0.169506       NaN         0.192398\n",
              "23  0.214391      0.227170  0.223187  0.170360       NaN         0.150504\n",
              "24  0.052672      0.099000  0.060915  0.134711       NaN         0.144121\n",
              "25  0.068378     -0.102266  0.082158  0.104155       NaN         0.141967\n",
              "26  0.066952      0.070698  0.074127  0.085614       NaN         0.124080\n",
              "27  0.143369      0.093245  0.147981  0.183387       NaN         0.139384\n",
              "28  0.017609      0.039603  0.024956 -0.152379       NaN         0.104027\n",
              "29 -0.012487     -0.037248 -0.004010 -0.216590       NaN         0.069226\n",
              "30  0.020974      0.031438  0.033294  0.129425       NaN         0.057550\n",
              "31  0.130612      0.287980  0.133274  0.558162       NaN         0.095647\n",
              "32  0.201468      0.350528  0.208118  0.714117       NaN         0.149188\n",
              "33  0.233882      0.433278  0.234908  0.476973       NaN         0.211460"
            ]
          },
          "metadata": {
            "tags": []
          },
          "execution_count": 367
        }
      ]
    },
    {
      "cell_type": "code",
      "metadata": {
        "id": "FPcj_q2amRxA",
        "colab_type": "code",
        "colab": {}
      },
      "source": [
        "from sklearn.preprocessing import MinMaxScaler\n",
        "\n",
        "def get_Weight(comp_tic):\n",
        "    fundamental = fundamentals(comp_tic)[[\"gp_ma\", \"cash_flow_ma\", \"revt_ma\", \"ebit_ma\", \"roa_growth_rate\"]]\n",
        "    size = len(fundamental)\n",
        "\n",
        "    close_price = get_annual_close(\"ADBE\")\n",
        "    close_price = np.pad(close_price, (size-len(close_price), 0), 'constant', constant_values=(0))\n",
        "    fundamental[\"annual_close\"] = close_price\n",
        "\n",
        "    df_close = fundamental[\"annual_close\"]\n",
        "    df_fundamentals = fundamental.drop(columns=\"annual_close\")\n",
        "\n",
        "    sc_y = MinMaxScaler(feature_range = (0, 1))\n",
        "    y_scaled = pd.DataFrame(sc_y.fit_transform(df_close.values.reshape(-1, 1)), columns=[\"annual_close\"])\n",
        "\n",
        "    sc_x = MinMaxScaler(feature_range = (0, 1))\n",
        "    x_scaled = pd.DataFrame(sc_x.fit_transform(df_fundamentals), columns=df_fundamentals.columns)\n",
        "    \n",
        "    y = y_scaled\n",
        "    X = x_scaled\n",
        "\n",
        "    X_train_FI, X_test_FI, y_train_FI, y_test_FI = train_test_split(X, y, test_size=0.33, shuffle=False)\n",
        "\n",
        "    regressor = xgb.XGBRegressor(gamma=0.0,\n",
        "                                n_estimators=1500,\n",
        "                                base_score=0.6,\n",
        "                                colsample_bytree=1,\n",
        "                                learning_rate=0.01)\n",
        "\n",
        "    xgbModel = regressor.fit(X_train_FI,y_train_FI, \\\n",
        "                            eval_set = [(X_train_FI, y_train_FI), (X_test_FI, y_test_FI)], \\\n",
        "                            verbose=False)\n",
        "\n",
        "    eval_result = regressor.evals_result()\n",
        "    training_rounds = range(len(eval_result['validation_0']['rmse']))\n",
        "\n",
        "    plt.scatter(x=training_rounds,y=eval_result['validation_0']['rmse'],label='Training Error')\n",
        "    plt.scatter(x=training_rounds,y=eval_result['validation_1']['rmse'],label='Validation Error')\n",
        "    plt.xlabel('Iterations')\n",
        "    plt.ylabel('RMSE')\n",
        "    plt.title('Training Vs Validation Error')\n",
        "    plt.legend()\n",
        "    plt.show()\n",
        "\n",
        "    fig = plt.figure(figsize=(8,8))\n",
        "    plt.xticks(rotation='vertical')\n",
        "    plt.bar([i for i in range(len(xgbModel.feature_importances_))], xgbModel.feature_importances_.tolist(), tick_label=X_test_FI.columns)\n",
        "    plt.title('Figure 6: Feature importance of the technical indicators.')\n",
        "    plt.show()"
      ],
      "execution_count": 0,
      "outputs": []
    },
    {
      "cell_type": "code",
      "metadata": {
        "id": "ABKjZzQv2TTW",
        "colab_type": "code",
        "outputId": "156f97ad-a923-41da-8509-47ffaf81e0ba",
        "colab": {
          "base_uri": "https://localhost:8080/",
          "height": 933
        }
      },
      "source": [
        "get_Weight(\"ADBE\")"
      ],
      "execution_count": 0,
      "outputs": [
        {
          "output_type": "stream",
          "text": [
            "/usr/local/lib/python3.6/dist-packages/ipykernel_launcher.py:7: RuntimeWarning: divide by zero encountered in true_divide\n",
            "  import sys\n",
            "/usr/local/lib/python3.6/dist-packages/ipykernel_launcher.py:7: RuntimeWarning: invalid value encountered in true_divide\n",
            "  import sys\n"
          ],
          "name": "stderr"
        },
        {
          "output_type": "stream",
          "text": [
            "[03:57:12] WARNING: /workspace/src/objective/regression_obj.cu:152: reg:linear is now deprecated in favor of reg:squarederror.\n"
          ],
          "name": "stdout"
        },
        {
          "output_type": "display_data",
          "data": {
            "image/png": "[encoded data removed]",
            "text/plain": [
              "<Figure size 432x288 with 1 Axes>"
            ]
          },
          "metadata": {
            "tags": []
          }
        },
        {
          "output_type": "display_data",
          "data": {
            "image/png": "[encoded data removed]",
            "text/plain": [
              "<Figure size 576x576 with 1 Axes>"
            ]
          },
          "metadata": {
            "tags": []
          }
        }
      ]
    },
    {
      "cell_type": "code",
      "metadata": {
        "id": "qcMe4Ea1C0vw",
        "colab_type": "code",
        "colab": {}
      },
      "source": [
        "# Sum of different functions nomalized with tanh\n",
        "\n",
        "def sum_with_tanh(Name):\n",
        "    Result = 0.9 * tanh(free_cash_flow(Name)) \\\n",
        "            + 1 * tanh(revenue_growth(Name)) \\\n",
        "            + 1.7 * tanh(gross_profit(Name)) \\\n",
        "            + 1.2 * tanh(ebit(Name)) \\\n",
        "            + 0.6 * tanh(optdr(Name)) \\\n",
        "            + 1.2* tanh(roa(Name))\n",
        "    return Result"
      ],
      "execution_count": 0,
      "outputs": []
    },
    {
      "cell_type": "code",
      "metadata": {
        "id": "rIqW3V35jE_l",
        "colab_type": "code",
        "outputId": "e87fb7cf-09af-4729-8bc4-22779828794d",
        "colab": {
          "base_uri": "https://localhost:8080/",
          "height": 170
        }
      },
      "source": [
        "df_otis.SECTOR.unique().tolist()[:-1]"
      ],
      "execution_count": 0,
      "outputs": [
        {
          "output_type": "execute_result",
          "data": {
            "text/plain": [
              "['Consumer Discretionary',\n",
              " 'Consumer Staples',\n",
              " 'Energy',\n",
              " 'Financial Services',\n",
              " 'Healthcare',\n",
              " 'Materials & Processing',\n",
              " 'Producer Durables',\n",
              " 'Technology',\n",
              " 'Utilities']"
            ]
          },
          "metadata": {
            "tags": []
          },
          "execution_count": 13
        }
      ]
    },
    {
      "cell_type": "code",
      "metadata": {
        "id": "eiZW7Dxh5Uha",
        "colab_type": "code",
        "colab": {}
      },
      "source": [
        "# Store the data in Google Drive\n",
        "\n",
        "for sector in df_otis.SECTOR.unique().tolist()[:-1]:\n",
        "\n",
        "    sector_data = df_otis[df_otis['SECTOR'] == sector]\n",
        "    data = sector_data['TICKER'].tolist()\n",
        "    results_pair = {}\n",
        "\n",
        "    for company in data:\n",
        "        resultVal = sum_with_tanh(company)\n",
        "        results_pair[company] = resultVal\n",
        "    \n",
        "    rank = sorted(results_pair.items(), key=lambda x: x[1], reverse=True)\n",
        "    df_result  = pd.DataFrame(rank, columns =['Company', 'index'])\n",
        "    df_result.to_csv(r\"/gdrive/My Drive/Blair/10/KWHS2019/LT_Predictions/\"+ sector +\".csv\")"
      ],
      "execution_count": 0,
      "outputs": []
    },
    {
      "cell_type": "code",
      "metadata": {
        "id": "7y6TFADWCCLJ",
        "colab_type": "code",
        "colab": {}
      },
      "source": [
        "############## ENDS HERE ##################"
      ],
      "execution_count": 0,
      "outputs": []
    },
    {
      "cell_type": "code",
      "metadata": {
        "id": "3_4b2X38AZ6s",
        "colab_type": "code",
        "colab": {}
      },
      "source": [
        "# Testing Section\n",
        "\n",
        "compl = df_otis[df_otis[\"SECTOR\"]==\"Consumer Discretionary\"]['TICKER']\n",
        "compl = compl.tolist()\n",
        "for comp in compl:\n",
        "    assert(roe(comp) == roe1(comp))\n",
        "    print(roe(comp), roe1(comp))\n",
        "\n",
        "import time\n",
        "start_time = time.time()\n",
        "roe1(comp[0])\n",
        "print(\"--- %s seconds ---\" % (time.time() - start_time))\n",
        "start_time2 = time.time()\n",
        "roe(comp[0])\n",
        "print(\"--- %s seconds ---\" % (time.time() - start_time2))"
      ],
      "execution_count": 0,
      "outputs": []
    },
    {
      "cell_type": "code",
      "metadata": {
        "id": "jgCNLgVrxxuU",
        "colab_type": "code",
        "colab": {}
      },
      "source": [
        "useful = df[['datadate', 'tic', 'revt', 'gp', 'oancf', 'capx', 'at', 'lt', 'ebit', 'mkvalt', 'optdr', 'ni', 'epspi', 'bkvlps', 'teq']]\n",
        "useful.to_csv(r\"/gdrive/My Drive/Blair/10/KWHS2019/useful_annual(1).csv\")"
      ],
      "execution_count": 0,
      "outputs": []
    }
  ]
}