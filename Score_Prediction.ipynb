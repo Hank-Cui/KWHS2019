{
  "nbformat": 4,
  "nbformat_minor": 0,
  "metadata": {
    "colab": {
      "name": "Score_Prediction.ipynb",
      "provenance": [],
      "collapsed_sections": [],
      "machine_shape": "hm",
      "include_colab_link": true
    },
    "kernelspec": {
      "name": "python3",
      "display_name": "Python 3"
    }
  },
  "cells": [
    {
      "cell_type": "markdown",
      "metadata": {
        "id": "view-in-github",
        "colab_type": "text"
      },
      "source": [
        "<a href=\"https://colab.research.google.com/github/Hank-Cui/otis2019/blob/master/Score_Prediction.ipynb\" target=\"_parent\"><img src=\"https://colab.research.google.com/assets/colab-badge.svg\" alt=\"Open In Colab\"/></a>"
      ]
    },
    {
      "cell_type": "code",
      "metadata": {
        "id": "Ajk27_NMB7pu",
        "colab_type": "code",
        "colab": {}
      },
      "source": [
        "############## STARTS HERE ################"
      ],
      "execution_count": 0,
      "outputs": []
    },
    {
      "cell_type": "code",
      "metadata": {
        "id": "5OcplTiMUlFv",
        "colab_type": "code",
        "outputId": "c89dc6d8-5faa-4183-ac17-2c5ff85a5794",
        "colab": {
          "base_uri": "https://localhost:8080/",
          "height": 527
        }
      },
      "source": [
        "# Mount Google Drive\n",
        "\n",
        "from google.colab import drive\n",
        "drive.mount('/gdrive')"
      ],
      "execution_count": 0,
      "outputs": [
        {
          "output_type": "error",
          "ename": "KeyboardInterrupt",
          "evalue": "ignored",
          "traceback": [
            "\u001b[0;31m---------------------------------------------------------------------------\u001b[0m",
            "\u001b[0;31mKeyboardInterrupt\u001b[0m                         Traceback (most recent call last)",
            "\u001b[0;32m/usr/local/lib/python3.6/dist-packages/ipykernel/kernelbase.py\u001b[0m in \u001b[0;36m_input_request\u001b[0;34m(self, prompt, ident, parent, password)\u001b[0m\n\u001b[1;32m    729\u001b[0m             \u001b[0;32mtry\u001b[0m\u001b[0;34m:\u001b[0m\u001b[0;34m\u001b[0m\u001b[0;34m\u001b[0m\u001b[0m\n\u001b[0;32m--> 730\u001b[0;31m                 \u001b[0mident\u001b[0m\u001b[0;34m,\u001b[0m \u001b[0mreply\u001b[0m \u001b[0;34m=\u001b[0m \u001b[0mself\u001b[0m\u001b[0;34m.\u001b[0m\u001b[0msession\u001b[0m\u001b[0;34m.\u001b[0m\u001b[0mrecv\u001b[0m\u001b[0;34m(\u001b[0m\u001b[0mself\u001b[0m\u001b[0;34m.\u001b[0m\u001b[0mstdin_socket\u001b[0m\u001b[0;34m,\u001b[0m \u001b[0;36m0\u001b[0m\u001b[0;34m)\u001b[0m\u001b[0;34m\u001b[0m\u001b[0;34m\u001b[0m\u001b[0m\n\u001b[0m\u001b[1;32m    731\u001b[0m             \u001b[0;32mexcept\u001b[0m \u001b[0mException\u001b[0m\u001b[0;34m:\u001b[0m\u001b[0;34m\u001b[0m\u001b[0;34m\u001b[0m\u001b[0m\n",
            "\u001b[0;32m/usr/local/lib/python3.6/dist-packages/jupyter_client/session.py\u001b[0m in \u001b[0;36mrecv\u001b[0;34m(self, socket, mode, content, copy)\u001b[0m\n\u001b[1;32m    802\u001b[0m         \u001b[0;32mtry\u001b[0m\u001b[0;34m:\u001b[0m\u001b[0;34m\u001b[0m\u001b[0;34m\u001b[0m\u001b[0m\n\u001b[0;32m--> 803\u001b[0;31m             \u001b[0mmsg_list\u001b[0m \u001b[0;34m=\u001b[0m \u001b[0msocket\u001b[0m\u001b[0;34m.\u001b[0m\u001b[0mrecv_multipart\u001b[0m\u001b[0;34m(\u001b[0m\u001b[0mmode\u001b[0m\u001b[0;34m,\u001b[0m \u001b[0mcopy\u001b[0m\u001b[0;34m=\u001b[0m\u001b[0mcopy\u001b[0m\u001b[0;34m)\u001b[0m\u001b[0;34m\u001b[0m\u001b[0;34m\u001b[0m\u001b[0m\n\u001b[0m\u001b[1;32m    804\u001b[0m         \u001b[0;32mexcept\u001b[0m \u001b[0mzmq\u001b[0m\u001b[0;34m.\u001b[0m\u001b[0mZMQError\u001b[0m \u001b[0;32mas\u001b[0m \u001b[0me\u001b[0m\u001b[0;34m:\u001b[0m\u001b[0;34m\u001b[0m\u001b[0;34m\u001b[0m\u001b[0m\n",
            "\u001b[0;32m/usr/local/lib/python3.6/dist-packages/zmq/sugar/socket.py\u001b[0m in \u001b[0;36mrecv_multipart\u001b[0;34m(self, flags, copy, track)\u001b[0m\n\u001b[1;32m    465\u001b[0m         \"\"\"\n\u001b[0;32m--> 466\u001b[0;31m         \u001b[0mparts\u001b[0m \u001b[0;34m=\u001b[0m \u001b[0;34m[\u001b[0m\u001b[0mself\u001b[0m\u001b[0;34m.\u001b[0m\u001b[0mrecv\u001b[0m\u001b[0;34m(\u001b[0m\u001b[0mflags\u001b[0m\u001b[0;34m,\u001b[0m \u001b[0mcopy\u001b[0m\u001b[0;34m=\u001b[0m\u001b[0mcopy\u001b[0m\u001b[0;34m,\u001b[0m \u001b[0mtrack\u001b[0m\u001b[0;34m=\u001b[0m\u001b[0mtrack\u001b[0m\u001b[0;34m)\u001b[0m\u001b[0;34m]\u001b[0m\u001b[0;34m\u001b[0m\u001b[0;34m\u001b[0m\u001b[0m\n\u001b[0m\u001b[1;32m    467\u001b[0m         \u001b[0;31m# have first part already, only loop while more to receive\u001b[0m\u001b[0;34m\u001b[0m\u001b[0;34m\u001b[0m\u001b[0;34m\u001b[0m\u001b[0m\n",
            "\u001b[0;32mzmq/backend/cython/socket.pyx\u001b[0m in \u001b[0;36mzmq.backend.cython.socket.Socket.recv\u001b[0;34m()\u001b[0m\n",
            "\u001b[0;32mzmq/backend/cython/socket.pyx\u001b[0m in \u001b[0;36mzmq.backend.cython.socket.Socket.recv\u001b[0;34m()\u001b[0m\n",
            "\u001b[0;32mzmq/backend/cython/socket.pyx\u001b[0m in \u001b[0;36mzmq.backend.cython.socket._recv_copy\u001b[0;34m()\u001b[0m\n",
            "\u001b[0;32m/usr/local/lib/python3.6/dist-packages/zmq/backend/cython/checkrc.pxd\u001b[0m in \u001b[0;36mzmq.backend.cython.checkrc._check_rc\u001b[0;34m()\u001b[0m\n",
            "\u001b[0;31mKeyboardInterrupt\u001b[0m: ",
            "\nDuring handling of the above exception, another exception occurred:\n",
            "\u001b[0;31mKeyboardInterrupt\u001b[0m                         Traceback (most recent call last)",
            "\u001b[0;32m<ipython-input-2-fe270cd3159a>\u001b[0m in \u001b[0;36m<module>\u001b[0;34m()\u001b[0m\n\u001b[1;32m      1\u001b[0m \u001b[0;34m\u001b[0m\u001b[0m\n\u001b[1;32m      2\u001b[0m \u001b[0;32mfrom\u001b[0m \u001b[0mgoogle\u001b[0m\u001b[0;34m.\u001b[0m\u001b[0mcolab\u001b[0m \u001b[0;32mimport\u001b[0m \u001b[0mdrive\u001b[0m\u001b[0;34m\u001b[0m\u001b[0;34m\u001b[0m\u001b[0m\n\u001b[0;32m----> 3\u001b[0;31m \u001b[0mdrive\u001b[0m\u001b[0;34m.\u001b[0m\u001b[0mmount\u001b[0m\u001b[0;34m(\u001b[0m\u001b[0;34m'/gdrive'\u001b[0m\u001b[0;34m)\u001b[0m\u001b[0;34m\u001b[0m\u001b[0;34m\u001b[0m\u001b[0m\n\u001b[0m",
            "\u001b[0;32m/usr/local/lib/python3.6/dist-packages/google/colab/drive.py\u001b[0m in \u001b[0;36mmount\u001b[0;34m(mountpoint, force_remount, timeout_ms)\u001b[0m\n\u001b[1;32m    223\u001b[0m       \u001b[0mauth_prompt\u001b[0m \u001b[0;34m=\u001b[0m \u001b[0md\u001b[0m\u001b[0;34m.\u001b[0m\u001b[0mmatch\u001b[0m\u001b[0;34m.\u001b[0m\u001b[0mgroup\u001b[0m\u001b[0;34m(\u001b[0m\u001b[0;36m1\u001b[0m\u001b[0;34m)\u001b[0m \u001b[0;34m+\u001b[0m \u001b[0;34m'\\nEnter your authorization code:\\n'\u001b[0m\u001b[0;34m\u001b[0m\u001b[0;34m\u001b[0m\u001b[0m\n\u001b[1;32m    224\u001b[0m       \u001b[0;32mwith\u001b[0m \u001b[0mopen\u001b[0m\u001b[0;34m(\u001b[0m\u001b[0mfifo\u001b[0m\u001b[0;34m,\u001b[0m \u001b[0;34m'w'\u001b[0m\u001b[0;34m)\u001b[0m \u001b[0;32mas\u001b[0m \u001b[0mfifo_file\u001b[0m\u001b[0;34m:\u001b[0m\u001b[0;34m\u001b[0m\u001b[0;34m\u001b[0m\u001b[0m\n\u001b[0;32m--> 225\u001b[0;31m         \u001b[0mfifo_file\u001b[0m\u001b[0;34m.\u001b[0m\u001b[0mwrite\u001b[0m\u001b[0;34m(\u001b[0m\u001b[0m_getpass\u001b[0m\u001b[0;34m.\u001b[0m\u001b[0mgetpass\u001b[0m\u001b[0;34m(\u001b[0m\u001b[0mauth_prompt\u001b[0m\u001b[0;34m)\u001b[0m \u001b[0;34m+\u001b[0m \u001b[0;34m'\\n'\u001b[0m\u001b[0;34m)\u001b[0m\u001b[0;34m\u001b[0m\u001b[0;34m\u001b[0m\u001b[0m\n\u001b[0m\u001b[1;32m    226\u001b[0m       \u001b[0mwrote_to_fifo\u001b[0m \u001b[0;34m=\u001b[0m \u001b[0;32mTrue\u001b[0m\u001b[0;34m\u001b[0m\u001b[0;34m\u001b[0m\u001b[0m\n\u001b[1;32m    227\u001b[0m   \u001b[0;32mif\u001b[0m \u001b[0;32mnot\u001b[0m \u001b[0mwrote_to_fifo\u001b[0m\u001b[0;34m:\u001b[0m\u001b[0;34m\u001b[0m\u001b[0;34m\u001b[0m\u001b[0m\n",
            "\u001b[0;32m/usr/local/lib/python3.6/dist-packages/ipykernel/kernelbase.py\u001b[0m in \u001b[0;36mgetpass\u001b[0;34m(self, prompt, stream)\u001b[0m\n\u001b[1;32m    686\u001b[0m             \u001b[0mself\u001b[0m\u001b[0;34m.\u001b[0m\u001b[0m_parent_ident\u001b[0m\u001b[0;34m,\u001b[0m\u001b[0;34m\u001b[0m\u001b[0;34m\u001b[0m\u001b[0m\n\u001b[1;32m    687\u001b[0m             \u001b[0mself\u001b[0m\u001b[0;34m.\u001b[0m\u001b[0m_parent_header\u001b[0m\u001b[0;34m,\u001b[0m\u001b[0;34m\u001b[0m\u001b[0;34m\u001b[0m\u001b[0m\n\u001b[0;32m--> 688\u001b[0;31m             \u001b[0mpassword\u001b[0m\u001b[0;34m=\u001b[0m\u001b[0;32mTrue\u001b[0m\u001b[0;34m,\u001b[0m\u001b[0;34m\u001b[0m\u001b[0;34m\u001b[0m\u001b[0m\n\u001b[0m\u001b[1;32m    689\u001b[0m         )\n\u001b[1;32m    690\u001b[0m \u001b[0;34m\u001b[0m\u001b[0m\n",
            "\u001b[0;32m/usr/local/lib/python3.6/dist-packages/ipykernel/kernelbase.py\u001b[0m in \u001b[0;36m_input_request\u001b[0;34m(self, prompt, ident, parent, password)\u001b[0m\n\u001b[1;32m    733\u001b[0m             \u001b[0;32mexcept\u001b[0m \u001b[0mKeyboardInterrupt\u001b[0m\u001b[0;34m:\u001b[0m\u001b[0;34m\u001b[0m\u001b[0;34m\u001b[0m\u001b[0m\n\u001b[1;32m    734\u001b[0m                 \u001b[0;31m# re-raise KeyboardInterrupt, to truncate traceback\u001b[0m\u001b[0;34m\u001b[0m\u001b[0;34m\u001b[0m\u001b[0;34m\u001b[0m\u001b[0m\n\u001b[0;32m--> 735\u001b[0;31m                 \u001b[0;32mraise\u001b[0m \u001b[0mKeyboardInterrupt\u001b[0m\u001b[0;34m\u001b[0m\u001b[0;34m\u001b[0m\u001b[0m\n\u001b[0m\u001b[1;32m    736\u001b[0m             \u001b[0;32melse\u001b[0m\u001b[0;34m:\u001b[0m\u001b[0;34m\u001b[0m\u001b[0;34m\u001b[0m\u001b[0m\n\u001b[1;32m    737\u001b[0m                 \u001b[0;32mbreak\u001b[0m\u001b[0;34m\u001b[0m\u001b[0;34m\u001b[0m\u001b[0m\n",
            "\u001b[0;31mKeyboardInterrupt\u001b[0m: "
          ]
        }
      ]
    },
    {
      "cell_type": "code",
      "metadata": {
        "id": "_kpknIfBKLLC",
        "colab_type": "code",
        "colab": {}
      },
      "source": [
        "import pandas as pd\n",
        "import numpy as np\n",
        "from math import tanh"
      ],
      "execution_count": 0,
      "outputs": []
    },
    {
      "cell_type": "code",
      "metadata": {
        "id": "ku6doZgEHKxv",
        "colab_type": "code",
        "colab": {}
      },
      "source": [
        "# Pandas Settings\n",
        "\n",
        "pd.set_option('display.max_rows', 500)\n",
        "pd.set_option('display.max_columns', 1000)\n",
        "pd.set_option('display.width', 1000)"
      ],
      "execution_count": 0,
      "outputs": []
    },
    {
      "cell_type": "code",
      "metadata": {
        "id": "-BnJ_OQkHJWq",
        "colab_type": "code",
        "colab": {}
      },
      "source": [
        "# Read the data using Pandsa\n",
        "\n",
        "df_u = pd.read_csv('/gdrive/My Drive/Blair/10/KWHS2019/useful_annual(1).csv')\n",
        "df_otis = pd.read_csv(\"/gdrive/My Drive/Blair/10/KWHS2019/KWHS_list.csv\")"
      ],
      "execution_count": 0,
      "outputs": []
    },
    {
      "cell_type": "code",
      "metadata": {
        "colab_type": "code",
        "id": "qZwwJl0UBkVm",
        "colab": {}
      },
      "source": [
        "# Returns increased percentages of gross profit\n",
        "\n",
        "def gross_profit(company_name):  \n",
        "    d = df_u[df_u['tic']==company_name][['datadate', 'tic', 'gp']]\n",
        "    \n",
        "    data = d.dropna(subset = ['gp'])  # Drop the rows that have no data\n",
        "    gp = np.array(data['gp'], dtype=np.float32)\n",
        "    total = 0\n",
        "\n",
        "    # Slice the data to take only last four years\n",
        "    gp = gp[-4:] if len(gp) > 4 else gp \n",
        "\n",
        "    for i in range(1, len(gp[-4:])):\n",
        "        total += 0 if gp[-i-1] == 0 else (gp[-i] - gp[-i-1]) / abs(gp[-i-1])\n",
        "\n",
        "    denominator = 1 if len(gp)-1 == 0 else len(gp)-1\n",
        "    return total/denominator  # Find average and take 3 sigfig"
      ],
      "execution_count": 0,
      "outputs": []
    },
    {
      "cell_type": "code",
      "metadata": {
        "id": "rz0FUj-eGtji",
        "colab_type": "code",
        "colab": {}
      },
      "source": [
        "def revenue_Growth(company_name):  # Return increase percentage\n",
        "    d = df_u[df_u['tic']==company_name][['datadate', 'tic', 'revt']]\n",
        "    \n",
        "    data = d.dropna(subset = ['revt'])\n",
        "    var = np.array(data['revt'], dtype=np.float32)\n",
        "    total, avg = (0, 0)\n",
        "    \n",
        "    L = var[-4:] if len(var) > 4 else var\n",
        "\n",
        "    for i in range(1, len(L)):\n",
        "        total += 0 if L[-i-1] == 0 else (L[-i] - L[-i-1]) / abs(L[-i-1])\n",
        "\n",
        "    denominator = 1 if len(L)-1 == 0 else len(L)-1\n",
        "    return total/denominator"
      ],
      "execution_count": 0,
      "outputs": []
    },
    {
      "cell_type": "code",
      "metadata": {
        "id": "e7TUANTFNNe4",
        "colab_type": "code",
        "colab": {}
      },
      "source": [
        "def free_Cash_Flow(company_name):  # Returns increased percentages \n",
        "    d = df_u[df_u['tic']==company_name][['datadate', 'tic', 'oancf', 'capx']]\n",
        "    \n",
        "    data = d.dropna(subset = ['oancf', 'capx'])\n",
        "\n",
        "    var1 = np.array(data['oancf'], dtype=np.float32)\n",
        "    var2 = np.array(data['capx'], dtype=np.float32)\n",
        "    total = 0\n",
        "    \n",
        "    L1, L2 = (var1[-4:], var2[-4:]) if len(var1) > 4 else (var1, var2)\n",
        "\n",
        "    for i in range(1, len(L1)):\n",
        "        next_term = L1[-i-1] - L2[-i-1]\n",
        "        if next_term == 0:\n",
        "          total += 0\n",
        "        else:\n",
        "          first_term = L1[-i] - L2[-i]\n",
        "          total += (first_term - next_term) / abs(next_term)\n",
        "\n",
        "    denominator = 1 if len(L1)-1 == 0 else len(L1)-1\n",
        "    return total/denominator"
      ],
      "execution_count": 0,
      "outputs": []
    },
    {
      "cell_type": "code",
      "metadata": {
        "id": "asDkBcSROv0d",
        "colab_type": "code",
        "colab": {}
      },
      "source": [
        "def ebit(company_name):  # Finalized. Returns increased percentages\n",
        "    d = df_u[df_u['tic']==company_name][['datadate', 'tic', 'ebit']]\n",
        "    \n",
        "    data = d.dropna(subset = ['ebit'])\n",
        "    var = np.array(data['ebit'], dtype=np.float32)\n",
        "    total = 0\n",
        "    \n",
        "    L = var[-4:] if len(var) > 4 else var\n",
        "\n",
        "    for i in range(1, len(L)):\n",
        "        total += 0 if L[-i-1] == 0 else (L[-i] -  L[-i-1]) / abs(L[-i-1])\n",
        "\n",
        "    denominator = 1 if len(L)-1 == 0 else len(L)-1\n",
        "    return total/denominator"
      ],
      "execution_count": 0,
      "outputs": []
    },
    {
      "cell_type": "code",
      "metadata": {
        "id": "YbjJQ64y-1Ww",
        "colab_type": "code",
        "colab": {}
      },
      "source": [
        "def roa(company_name):  # Returns average yearly values\n",
        "    d = df_u[df_u['tic']==company_name]\\\n",
        "    [['datadate', 'tic', 'at', 'lt', 'ni']]\n",
        "\n",
        "    data = d.dropna(subset = ['ni', 'at', 'lt'])\n",
        "\n",
        "    var1 = np.array(data['ni'], dtype=np.float32)\n",
        "    var2 = np.array(data['at'], dtype=np.float32)\n",
        "    var3 = np.array(data['lt'], dtype=np.float32)\n",
        "    total = 0\n",
        "    \n",
        "    if len(var1) > 4:\n",
        "        L1, L2, L3 = var1[-4:], var2[-4:], var3[-4:]\n",
        "    else:\n",
        "        L1, L2, L3 = var1, var2, var3\n",
        "\n",
        "    for i in range(len(L1)):\n",
        "        total += L1[i]/abs(L2[i] - L3[i])\n",
        "    \n",
        "    denominator = 1 if len(L1)-1 == 0 else len(L1)-1\n",
        "    return total / denominator"
      ],
      "execution_count": 0,
      "outputs": []
    },
    {
      "cell_type": "code",
      "metadata": {
        "id": "y7031ge0hMrW",
        "colab_type": "code",
        "colab": {}
      },
      "source": [
        "def optdr(company_name):  # Finalized Returns increased percentages\n",
        "    d = df_u[df_u['tic']==company_name]\\\n",
        "    [['datadate', 'tic','optdr']]\n",
        "    \n",
        "    data = d.dropna(subset = ['optdr'])\n",
        "    var = np.array(data['optdr'], dtype=np.float32)\n",
        "    total = 0\n",
        "    \n",
        "    L = var[-4:] if len(var) > 4 else var\n",
        "\n",
        "    for i in range(1, len(L)):\n",
        "        total += 0 if L[-i-1] == 0 else (L[-i] - L[-i-1]) / abs(L[-i-1])\n",
        "\n",
        "    denominator = 1 if len(L)-1 == 0 else len(L)-1\n",
        "    return total / denominator"
      ],
      "execution_count": 0,
      "outputs": []
    },
    {
      "cell_type": "code",
      "metadata": {
        "id": "uLXMXaPXKrGw",
        "colab_type": "code",
        "colab": {}
      },
      "source": [
        "def roe(company_name):  # Returns average yearly values\n",
        "    d = df_u[df_u['tic']==company_name]\\\n",
        "    [['datadate', 'tic', 'ni', 'teq']]\n",
        "\n",
        "    data = d.dropna(subset = ['ni', 'teq'])\n",
        "    var1 = np.array(data['ni'], dtype=np.float32)\n",
        "    var2 = np.array(data['teq'], dtype=np.float32)\n",
        "    total = 0\n",
        "    \n",
        "    if len(var1) > 4:\n",
        "        L1, L2 = var1[-4:], var2[-4:]\n",
        "    else:\n",
        "        L1, L2 = var1, var2\n",
        "\n",
        "    for i in range(len(L1)):\n",
        "        total += 0 if L1[i] == 0 else L1[i]/abs(L2[i])\n",
        "            \n",
        "    denominator = 1 if len(L1)-1 == 0 else len(L1)-1\n",
        "    return total / denominator"
      ],
      "execution_count": 0,
      "outputs": []
    },
    {
      "cell_type": "code",
      "metadata": {
        "id": "qcMe4Ea1C0vw",
        "colab_type": "code",
        "colab": {}
      },
      "source": [
        "# Sum of different functions nomalized with tanh\n",
        "\n",
        "def sum_with_tanh(Name):\n",
        "    Result = 0.9 * tanh(free_Cash_Flow(Name)) \\\n",
        "            + 1 * tanh(revenue_Growth(Name)) \\\n",
        "            + 1.7 * tanh(gross_profit(Name)) \\\n",
        "            + 1.2 * tanh(ebit(Name)) \\\n",
        "            + 0.6 * tanh(optdr(Name)) \\\n",
        "            + 1.2* tanh(roa(Name))\n",
        "    return Result"
      ],
      "execution_count": 0,
      "outputs": []
    },
    {
      "cell_type": "code",
      "metadata": {
        "id": "rIqW3V35jE_l",
        "colab_type": "code",
        "outputId": "dcd077a1-7b7e-49a5-d3ec-fffa668748c1",
        "colab": {
          "base_uri": "https://localhost:8080/",
          "height": 170
        }
      },
      "source": [
        "df_otis.SECTOR.unique().tolist()[:-1]"
      ],
      "execution_count": 184,
      "outputs": [
        {
          "output_type": "execute_result",
          "data": {
            "text/plain": [
              "['Consumer Discretionary',\n",
              " 'Consumer Staples',\n",
              " 'Energy',\n",
              " 'Financial Services',\n",
              " 'Healthcare',\n",
              " 'Materials & Processing',\n",
              " 'Producer Durables',\n",
              " 'Technology',\n",
              " 'Utilities']"
            ]
          },
          "metadata": {
            "tags": []
          },
          "execution_count": 184
        }
      ]
    },
    {
      "cell_type": "code",
      "metadata": {
        "id": "eiZW7Dxh5Uha",
        "colab_type": "code",
        "colab": {
          "base_uri": "https://localhost:8080/",
          "height": 412
        },
        "outputId": "64df32c0-027c-4166-c5b1-05043a07070f"
      },
      "source": [
        "# Store the data in Google Drive\n",
        "\n",
        "for sector in df_otis.SECTOR.unique().tolist()[:-1]:\n",
        "\n",
        "    sector_data = df_otis[df_otis['SECTOR'] == sector]\n",
        "    data = sector_data['TICKER'].tolist()\n",
        "    print(data)\n",
        "    results_pair = {}\n",
        "\n",
        "    for company in data:\n",
        "        resultVal = sum_with_tanh(company)\n",
        "        results_pair[company] = resultVal\n",
        "    \n",
        "    rank = sorted(results_pair.items(), key=lambda x: x[1], reverse=True)\n",
        "    df_result  = pd.DataFrame(rank, columns =['Company', 'index'])\n",
        "    df_result.to_csv(r\"/gdrive/My Drive/Blair/10/KWHS2019/LT_Predictions/\"+ sector +\".csv\")"
      ],
      "execution_count": 189,
      "outputs": [
        {
          "output_type": "stream",
          "text": [
            "['ANF', 'ATV', 'AMZN', 'AEO', 'AOBC', 'APTV', 'AVP', 'BTOW3', 'BAJAJ-AUTO', 'BNED', 'BATAINDIA', 'BBBY', 'BBY', 'BWA', 'BOSCHLTD', 'BBW', 'BURL', 'KMX', 'CCL', 'CTRC', 'CAKE', 'CAAS', '601888', 'CMG', 'CMCSA', 'CPG', 'COST', 'DJCO', 'DFRG', 'DG', 'DLTR', 'DPZ', 'FL', 'F', 'GPS', 'GM', 'GRDZF', 'HRB', 'HOG', 'HAS', 'HEROMOTOCO', 'HIBB', 'HMC', 'HSW', 'H', 'IMAX', 'IHG', 'JUBLFOOD', 'KROT3', 'LE', 'LVS', 'LCII', 'RENT3', 'LAME4', 'LREN3', 'LOOK', 'LULU', 'LYFT', 'M', 'MGLU3', 'M&M', 'MAR', 'MARUTI', 'MAT', 'MCD', '333', 'MOV', 'EDU', 'NXT', 'NKE', 'NCLH', 'OTB', 'PZZA', 'PSON', 'PIR', 'PLNT', 'RLH', 'REV', 'SHALF', 'SIRI', 'SSI', 'SBUX', 'SFIX', 'TLRD', 'TAL', 'TGT', 'TATAMOTORS', 'TSLA', 'TXRH', 'TCS', 'EL', 'DIS', 'WEN', 'TIF', 'TJX', 'TM', 'UBER', 'ULTA', 'UAA', 'URBN', 'VRA', 'VFC', 'WTB', 'YUM']\n"
          ],
          "name": "stdout"
        },
        {
          "output_type": "error",
          "ename": "KeyboardInterrupt",
          "evalue": "ignored",
          "traceback": [
            "\u001b[0;31m---------------------------------------------------------------------------\u001b[0m",
            "\u001b[0;31mKeyboardInterrupt\u001b[0m                         Traceback (most recent call last)",
            "\u001b[0;32m<ipython-input-189-77c22c296ddb>\u001b[0m in \u001b[0;36m<module>\u001b[0;34m()\u001b[0m\n\u001b[1;32m      8\u001b[0m \u001b[0;34m\u001b[0m\u001b[0m\n\u001b[1;32m      9\u001b[0m     \u001b[0;32mfor\u001b[0m \u001b[0mcompany\u001b[0m \u001b[0;32min\u001b[0m \u001b[0mdata\u001b[0m\u001b[0;34m:\u001b[0m\u001b[0;34m\u001b[0m\u001b[0;34m\u001b[0m\u001b[0m\n\u001b[0;32m---> 10\u001b[0;31m         \u001b[0mresultVal\u001b[0m \u001b[0;34m=\u001b[0m \u001b[0msum_with_tanh\u001b[0m\u001b[0;34m(\u001b[0m\u001b[0mcompany\u001b[0m\u001b[0;34m)\u001b[0m\u001b[0;34m\u001b[0m\u001b[0;34m\u001b[0m\u001b[0m\n\u001b[0m\u001b[1;32m     11\u001b[0m         \u001b[0mresults_pair\u001b[0m\u001b[0;34m[\u001b[0m\u001b[0mcompany\u001b[0m\u001b[0;34m]\u001b[0m \u001b[0;34m=\u001b[0m \u001b[0mresultVal\u001b[0m\u001b[0;34m\u001b[0m\u001b[0;34m\u001b[0m\u001b[0m\n\u001b[1;32m     12\u001b[0m \u001b[0;34m\u001b[0m\u001b[0m\n",
            "\u001b[0;32m<ipython-input-152-47e9855b4839>\u001b[0m in \u001b[0;36msum_with_tanh\u001b[0;34m(Name)\u001b[0m\n\u001b[1;32m      1\u001b[0m \u001b[0;32mdef\u001b[0m \u001b[0msum_with_tanh\u001b[0m\u001b[0;34m(\u001b[0m\u001b[0mName\u001b[0m\u001b[0;34m)\u001b[0m\u001b[0;34m:\u001b[0m\u001b[0;34m\u001b[0m\u001b[0;34m\u001b[0m\u001b[0m\n\u001b[0;32m----> 2\u001b[0;31m     \u001b[0mResult\u001b[0m \u001b[0;34m=\u001b[0m \u001b[0;36m0.9\u001b[0m \u001b[0;34m*\u001b[0m \u001b[0mtanh\u001b[0m\u001b[0;34m(\u001b[0m\u001b[0mfree_Cash_Flow\u001b[0m\u001b[0;34m(\u001b[0m\u001b[0mName\u001b[0m\u001b[0;34m)\u001b[0m\u001b[0;34m)\u001b[0m             \u001b[0;34m+\u001b[0m \u001b[0;36m1\u001b[0m \u001b[0;34m*\u001b[0m \u001b[0mtanh\u001b[0m\u001b[0;34m(\u001b[0m\u001b[0mrevenue_Growth\u001b[0m\u001b[0;34m(\u001b[0m\u001b[0mName\u001b[0m\u001b[0;34m)\u001b[0m\u001b[0;34m)\u001b[0m             \u001b[0;34m+\u001b[0m \u001b[0;36m1.7\u001b[0m \u001b[0;34m*\u001b[0m \u001b[0mtanh\u001b[0m\u001b[0;34m(\u001b[0m\u001b[0mgross_profit\u001b[0m\u001b[0;34m(\u001b[0m\u001b[0mName\u001b[0m\u001b[0;34m)\u001b[0m\u001b[0;34m)\u001b[0m             \u001b[0;34m+\u001b[0m \u001b[0;36m1.2\u001b[0m \u001b[0;34m*\u001b[0m \u001b[0mtanh\u001b[0m\u001b[0;34m(\u001b[0m\u001b[0mebit\u001b[0m\u001b[0;34m(\u001b[0m\u001b[0mName\u001b[0m\u001b[0;34m)\u001b[0m\u001b[0;34m)\u001b[0m             \u001b[0;34m+\u001b[0m \u001b[0;36m0.6\u001b[0m \u001b[0;34m*\u001b[0m \u001b[0mtanh\u001b[0m\u001b[0;34m(\u001b[0m\u001b[0moptdr\u001b[0m\u001b[0;34m(\u001b[0m\u001b[0mName\u001b[0m\u001b[0;34m)\u001b[0m\u001b[0;34m)\u001b[0m             \u001b[0;34m+\u001b[0m \u001b[0;36m1.2\u001b[0m\u001b[0;34m*\u001b[0m \u001b[0mtanh\u001b[0m\u001b[0;34m(\u001b[0m\u001b[0mroa\u001b[0m\u001b[0;34m(\u001b[0m\u001b[0mName\u001b[0m\u001b[0;34m)\u001b[0m\u001b[0;34m)\u001b[0m\u001b[0;34m\u001b[0m\u001b[0;34m\u001b[0m\u001b[0m\n\u001b[0m\u001b[1;32m      3\u001b[0m     \u001b[0;32mreturn\u001b[0m \u001b[0mResult\u001b[0m\u001b[0;34m\u001b[0m\u001b[0;34m\u001b[0m\u001b[0m\n",
            "\u001b[0;32m<ipython-input-150-c85c01298abd>\u001b[0m in \u001b[0;36moptdr\u001b[0;34m(company_name)\u001b[0m\n\u001b[1;32m      1\u001b[0m \u001b[0;32mdef\u001b[0m \u001b[0moptdr\u001b[0m\u001b[0;34m(\u001b[0m\u001b[0mcompany_name\u001b[0m\u001b[0;34m)\u001b[0m\u001b[0;34m:\u001b[0m \u001b[0;31m#Finalized Returns increased percentages\u001b[0m\u001b[0;34m\u001b[0m\u001b[0;34m\u001b[0m\u001b[0m\n\u001b[0;32m----> 2\u001b[0;31m     \u001b[0md\u001b[0m \u001b[0;34m=\u001b[0m \u001b[0mdf_u\u001b[0m\u001b[0;34m[\u001b[0m\u001b[0mdf_u\u001b[0m\u001b[0;34m[\u001b[0m\u001b[0;34m'tic'\u001b[0m\u001b[0;34m]\u001b[0m\u001b[0;34m==\u001b[0m\u001b[0mcompany_name\u001b[0m\u001b[0;34m]\u001b[0m    \u001b[0;34m[\u001b[0m\u001b[0;34m[\u001b[0m\u001b[0;34m'datadate'\u001b[0m\u001b[0;34m,\u001b[0m \u001b[0;34m'tic'\u001b[0m\u001b[0;34m,\u001b[0m\u001b[0;34m'optdr'\u001b[0m\u001b[0;34m]\u001b[0m\u001b[0;34m]\u001b[0m\u001b[0;34m\u001b[0m\u001b[0;34m\u001b[0m\u001b[0m\n\u001b[0m\u001b[1;32m      3\u001b[0m \u001b[0;34m\u001b[0m\u001b[0m\n\u001b[1;32m      4\u001b[0m     \u001b[0mdata\u001b[0m \u001b[0;34m=\u001b[0m \u001b[0md\u001b[0m\u001b[0;34m.\u001b[0m\u001b[0mdropna\u001b[0m\u001b[0;34m(\u001b[0m\u001b[0msubset\u001b[0m \u001b[0;34m=\u001b[0m \u001b[0;34m[\u001b[0m\u001b[0;34m'optdr'\u001b[0m\u001b[0;34m]\u001b[0m\u001b[0;34m)\u001b[0m\u001b[0;34m\u001b[0m\u001b[0;34m\u001b[0m\u001b[0m\n\u001b[1;32m      5\u001b[0m     \u001b[0mvar\u001b[0m \u001b[0;34m=\u001b[0m \u001b[0mnp\u001b[0m\u001b[0;34m.\u001b[0m\u001b[0marray\u001b[0m\u001b[0;34m(\u001b[0m\u001b[0mdata\u001b[0m\u001b[0;34m[\u001b[0m\u001b[0;34m'optdr'\u001b[0m\u001b[0;34m]\u001b[0m\u001b[0;34m,\u001b[0m \u001b[0mdtype\u001b[0m\u001b[0;34m=\u001b[0m\u001b[0mnp\u001b[0m\u001b[0;34m.\u001b[0m\u001b[0mfloat32\u001b[0m\u001b[0;34m)\u001b[0m\u001b[0;34m\u001b[0m\u001b[0;34m\u001b[0m\u001b[0m\n",
            "\u001b[0;32m/usr/local/lib/python3.6/dist-packages/pandas/core/ops.py\u001b[0m in \u001b[0;36mwrapper\u001b[0;34m(self, other, axis)\u001b[0m\n\u001b[1;32m   1764\u001b[0m \u001b[0;34m\u001b[0m\u001b[0m\n\u001b[1;32m   1765\u001b[0m             \u001b[0;32mwith\u001b[0m \u001b[0mnp\u001b[0m\u001b[0;34m.\u001b[0m\u001b[0merrstate\u001b[0m\u001b[0;34m(\u001b[0m\u001b[0mall\u001b[0m\u001b[0;34m=\u001b[0m\u001b[0;34m'ignore'\u001b[0m\u001b[0;34m)\u001b[0m\u001b[0;34m:\u001b[0m\u001b[0;34m\u001b[0m\u001b[0;34m\u001b[0m\u001b[0m\n\u001b[0;32m-> 1766\u001b[0;31m                 \u001b[0mres\u001b[0m \u001b[0;34m=\u001b[0m \u001b[0mna_op\u001b[0m\u001b[0;34m(\u001b[0m\u001b[0mvalues\u001b[0m\u001b[0;34m,\u001b[0m \u001b[0mother\u001b[0m\u001b[0;34m)\u001b[0m\u001b[0;34m\u001b[0m\u001b[0;34m\u001b[0m\u001b[0m\n\u001b[0m\u001b[1;32m   1767\u001b[0m             \u001b[0;32mif\u001b[0m \u001b[0mis_scalar\u001b[0m\u001b[0;34m(\u001b[0m\u001b[0mres\u001b[0m\u001b[0;34m)\u001b[0m\u001b[0;34m:\u001b[0m\u001b[0;34m\u001b[0m\u001b[0;34m\u001b[0m\u001b[0m\n\u001b[1;32m   1768\u001b[0m                 raise TypeError('Could not compare {typ} type with Series'\n",
            "\u001b[0;32m/usr/local/lib/python3.6/dist-packages/pandas/core/ops.py\u001b[0m in \u001b[0;36mna_op\u001b[0;34m(x, y)\u001b[0m\n\u001b[1;32m   1623\u001b[0m \u001b[0;34m\u001b[0m\u001b[0m\n\u001b[1;32m   1624\u001b[0m         \u001b[0;32mif\u001b[0m \u001b[0mis_object_dtype\u001b[0m\u001b[0;34m(\u001b[0m\u001b[0mx\u001b[0m\u001b[0;34m.\u001b[0m\u001b[0mdtype\u001b[0m\u001b[0;34m)\u001b[0m\u001b[0;34m:\u001b[0m\u001b[0;34m\u001b[0m\u001b[0;34m\u001b[0m\u001b[0m\n\u001b[0;32m-> 1625\u001b[0;31m             \u001b[0mresult\u001b[0m \u001b[0;34m=\u001b[0m \u001b[0m_comp_method_OBJECT_ARRAY\u001b[0m\u001b[0;34m(\u001b[0m\u001b[0mop\u001b[0m\u001b[0;34m,\u001b[0m \u001b[0mx\u001b[0m\u001b[0;34m,\u001b[0m \u001b[0my\u001b[0m\u001b[0;34m)\u001b[0m\u001b[0;34m\u001b[0m\u001b[0;34m\u001b[0m\u001b[0m\n\u001b[0m\u001b[1;32m   1626\u001b[0m \u001b[0;34m\u001b[0m\u001b[0m\n\u001b[1;32m   1627\u001b[0m         \u001b[0;32melif\u001b[0m \u001b[0mis_datetimelike_v_numeric\u001b[0m\u001b[0;34m(\u001b[0m\u001b[0mx\u001b[0m\u001b[0;34m,\u001b[0m \u001b[0my\u001b[0m\u001b[0;34m)\u001b[0m\u001b[0;34m:\u001b[0m\u001b[0;34m\u001b[0m\u001b[0;34m\u001b[0m\u001b[0m\n",
            "\u001b[0;32m/usr/local/lib/python3.6/dist-packages/pandas/core/ops.py\u001b[0m in \u001b[0;36m_comp_method_OBJECT_ARRAY\u001b[0;34m(op, x, y)\u001b[0m\n\u001b[1;32m   1601\u001b[0m         \u001b[0mresult\u001b[0m \u001b[0;34m=\u001b[0m \u001b[0mlibops\u001b[0m\u001b[0;34m.\u001b[0m\u001b[0mvec_compare\u001b[0m\u001b[0;34m(\u001b[0m\u001b[0mx\u001b[0m\u001b[0;34m,\u001b[0m \u001b[0my\u001b[0m\u001b[0;34m,\u001b[0m \u001b[0mop\u001b[0m\u001b[0;34m)\u001b[0m\u001b[0;34m\u001b[0m\u001b[0;34m\u001b[0m\u001b[0m\n\u001b[1;32m   1602\u001b[0m     \u001b[0;32melse\u001b[0m\u001b[0;34m:\u001b[0m\u001b[0;34m\u001b[0m\u001b[0;34m\u001b[0m\u001b[0m\n\u001b[0;32m-> 1603\u001b[0;31m         \u001b[0mresult\u001b[0m \u001b[0;34m=\u001b[0m \u001b[0mlibops\u001b[0m\u001b[0;34m.\u001b[0m\u001b[0mscalar_compare\u001b[0m\u001b[0;34m(\u001b[0m\u001b[0mx\u001b[0m\u001b[0;34m,\u001b[0m \u001b[0my\u001b[0m\u001b[0;34m,\u001b[0m \u001b[0mop\u001b[0m\u001b[0;34m)\u001b[0m\u001b[0;34m\u001b[0m\u001b[0;34m\u001b[0m\u001b[0m\n\u001b[0m\u001b[1;32m   1604\u001b[0m     \u001b[0;32mreturn\u001b[0m \u001b[0mresult\u001b[0m\u001b[0;34m\u001b[0m\u001b[0;34m\u001b[0m\u001b[0m\n\u001b[1;32m   1605\u001b[0m \u001b[0;34m\u001b[0m\u001b[0m\n",
            "\u001b[0;31mKeyboardInterrupt\u001b[0m: "
          ]
        }
      ]
    },
    {
      "cell_type": "code",
      "metadata": {
        "id": "7y6TFADWCCLJ",
        "colab_type": "code",
        "colab": {}
      },
      "source": [
        "############## ENDS HERE ##################"
      ],
      "execution_count": 0,
      "outputs": []
    },
    {
      "cell_type": "code",
      "metadata": {
        "id": "3_4b2X38AZ6s",
        "colab_type": "code",
        "colab": {}
      },
      "source": [
        "# Testing Section\n",
        "\n",
        "compl = df_otis[df_otis[\"SECTOR\"]==\"Consumer Discretionary\"]['TICKER']\n",
        "compl = compl.tolist()\n",
        "for comp in compl:\n",
        "    assert(roe(comp) == roe1(comp))\n",
        "    print(roe(comp), roe1(comp))\n",
        "\n",
        "import time\n",
        "start_time = time.time()\n",
        "roe1(comp[0])\n",
        "print(\"--- %s seconds ---\" % (time.time() - start_time))\n",
        "start_time2 = time.time()\n",
        "roe(comp[0])\n",
        "print(\"--- %s seconds ---\" % (time.time() - start_time2))"
      ],
      "execution_count": 0,
      "outputs": []
    },
    {
      "cell_type": "code",
      "metadata": {
        "id": "OktHzQd2KiEM",
        "colab_type": "code",
        "colab": {}
      },
      "source": [
        "def PB_Ratio(company_name): #TBD #Measuring avg value\n",
        "    comp = df_a[df_a['tic']==company_name]\\\n",
        "    [['datadate', 'tic', 'revt', 'gp', 'oancf', 'capx', 'at', 'lt', 'ebit', \\\n",
        "      'mkvalt', 'optdr', 'ni', 'epspi', 'bkvlps']]\n",
        "    \n",
        "    data = d.dropna(subset = ['bkvlps'])\n",
        "    \n",
        "    \n",
        "    var1 = ________________________________________________.tolist() #[4年前，3年前，两年前，1年前] 收盘价\n",
        "    var2 = data['bkvlps'].tolist()\n",
        "    \n",
        "    avg = 0\n",
        "    \n",
        "    total = 0\n",
        "    \n",
        "    if len(var1) > 4:\n",
        "        newList1 = [var1[-4], var1[-3], var1[-2], var1[-1]]\n",
        "        newList2 = [var2[-4], var2[-3], var2[-2], var2[-1]]\n",
        "    else:\n",
        "        newList1 = var1\n",
        "        newList2 = var2\n",
        "\n",
        "    if len(var1) > 1:\n",
        "        for i in range(1, len(newList1)):\n",
        "            if newList1[-i-1] == 0:\n",
        "              total += 0\n",
        "            else:\n",
        "              total += newList1[-i] / newList2[-i]\n",
        "    \n",
        "    if total == 0:\n",
        "      avg = 0\n",
        "    else:\n",
        "      result = (total / (len(newList1)))\n",
        "      avg = round((total) / len(newList1), 3)\n",
        "\n",
        "    return avg"
      ],
      "execution_count": 0,
      "outputs": []
    },
    {
      "cell_type": "code",
      "metadata": {
        "id": "NZsY7RPBI5MX",
        "colab_type": "code",
        "colab": {}
      },
      "source": [
        "def PE_Ratio(company_name): #TBD #Measuring avg value\n",
        "    comp = df_a[df_a['tic']==company_name]\\\n",
        "    [['datadate', 'tic', 'revt', 'gp', 'oancf', 'capx', 'at', 'lt', 'ebit', \\\n",
        "      'mkvalt', 'optdr', 'ni', 'epspi', 'bkvlps']]\n",
        "    \n",
        "    data = d.dropna(subset = ['optdr', 'epspi'])\n",
        "    \n",
        "    var1 = data['mkvalt'].tolist()\n",
        "    var2 = __________________________________________.tolist() #[4年前，3年前，两年前，1年前]  number of stocks outstanding\n",
        "    var3 = data['epspi'].tolist()\n",
        "\n",
        "    avg = 0\n",
        "    \n",
        "    total = 0\n",
        "    \n",
        "    if len(var1) > 4:\n",
        "        newList1 = [var1[-4], var1[-3], var1[-2], var1[-1]]\n",
        "        newList2 = [var2[-4], var2[-3], var2[-2], var2[-1]]\n",
        "        newList3 = [var3[-4], var3[-3], var3[-2], var3[-1]]\n",
        "    else:\n",
        "        newList1 = var1\n",
        "        newList2 = var2\n",
        "        newList3 = var3\n",
        "\n",
        "    if len(var1) > 1:\n",
        "        for i in range(1, len(newList1)):\n",
        "            if newList1[-i-1] == 0:\n",
        "              total += 0\n",
        "            else:\n",
        "              total += (newList1[-i] - newList2[-1])/newList3[-i]\n",
        "    \n",
        "    if total == 0:\n",
        "      avg = 0\n",
        "    else:\n",
        "      result = (total / (len(newList1)))\n",
        "      avg = round((total) / len(newList1), 3)\n",
        "\n",
        "    return avg\n"
      ],
      "execution_count": 0,
      "outputs": []
    },
    {
      "cell_type": "code",
      "metadata": {
        "id": "jgCNLgVrxxuU",
        "colab_type": "code",
        "colab": {}
      },
      "source": [
        "useful = df[['datadate', 'tic', 'revt', 'gp', 'oancf', 'capx', 'at', 'lt', 'ebit', 'mkvalt', 'optdr', 'ni', 'epspi', 'bkvlps', 'teq']]\n",
        "useful.to_csv(r\"/gdrive/My Drive/Blair/10/KWHS2019/useful_annual(1).csv\")"
      ],
      "execution_count": 0,
      "outputs": []
    }
  ]
}