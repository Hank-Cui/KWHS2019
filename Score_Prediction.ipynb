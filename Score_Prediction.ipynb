{
  "nbformat": 4,
  "nbformat_minor": 0,
  "metadata": {
    "colab": {
      "name": "Score_Prediction.ipynb",
      "provenance": [],
      "collapsed_sections": [],
      "machine_shape": "hm",
      "include_colab_link": true
    },
    "kernelspec": {
      "name": "python3",
      "display_name": "Python 3"
    }
  },
  "cells": [
    {
      "cell_type": "markdown",
      "metadata": {
        "id": "view-in-github",
        "colab_type": "text"
      },
      "source": [
        "<a href=\"https://colab.research.google.com/github/Hank-Cui/otis2019/blob/master/Score_Prediction.ipynb\" target=\"_parent\"><img src=\"https://colab.research.google.com/assets/colab-badge.svg\" alt=\"Open In Colab\"/></a>"
      ]
    },
    {
      "cell_type": "code",
      "metadata": {
        "id": "Ajk27_NMB7pu",
        "colab_type": "code",
        "colab": {}
      },
      "source": [
        "############## STARTS HERE ################"
      ],
      "execution_count": 0,
      "outputs": []
    },
    {
      "cell_type": "code",
      "metadata": {
        "id": "5OcplTiMUlFv",
        "colab_type": "code",
        "outputId": "36efd80a-2d2a-4de1-dcf7-92f0e603a1f4",
        "colab": {
          "base_uri": "https://localhost:8080/",
          "height": 34
        }
      },
      "source": [
        "# Mount Google Drive\n",
        "\n",
        "from google.colab import drive\n",
        "drive.mount('/gdrive')"
      ],
      "execution_count": 1,
      "outputs": [
        {
          "output_type": "stream",
          "text": [
            "Drive already mounted at /gdrive; to attempt to forcibly remount, call drive.mount(\"/gdrive\", force_remount=True).\n"
          ],
          "name": "stdout"
        }
      ]
    },
    {
      "cell_type": "code",
      "metadata": {
        "id": "_kpknIfBKLLC",
        "colab_type": "code",
        "colab": {}
      },
      "source": [
        "import pandas as pd\n",
        "import numpy as np\n",
        "from math import tanh"
      ],
      "execution_count": 0,
      "outputs": []
    },
    {
      "cell_type": "code",
      "metadata": {
        "id": "ku6doZgEHKxv",
        "colab_type": "code",
        "colab": {}
      },
      "source": [
        "# Pandas Settings\n",
        "\n",
        "pd.set_option('display.max_rows', 500)\n",
        "pd.set_option('display.max_columns', 1000)\n",
        "pd.set_option('display.width', 1000)"
      ],
      "execution_count": 0,
      "outputs": []
    },
    {
      "cell_type": "code",
      "metadata": {
        "id": "-BnJ_OQkHJWq",
        "colab_type": "code",
        "colab": {}
      },
      "source": [
        "# Read the data using Pandsa\n",
        "\n",
        "df_u = pd.read_csv('/gdrive/My Drive/Blair/10/KWHS2019/useful_annual(1).csv')\n",
        "df_otis = pd.read_csv(\"/gdrive/My Drive/Blair/10/KWHS2019/KWHS_list.csv\")"
      ],
      "execution_count": 0,
      "outputs": []
    },
    {
      "cell_type": "code",
      "metadata": {
        "colab_type": "code",
        "id": "qZwwJl0UBkVm",
        "colab": {}
      },
      "source": [
        "# Returns increased percentages of gross profit\n",
        "\n",
        "def gross_profit(company_name):  \n",
        "    d = df_u[df_u['tic']==company_name][['datadate', 'tic', 'gp']]\n",
        "    \n",
        "    data = d.dropna(subset = ['gp'])  # Drop the rows that have no data\n",
        "    gp = np.array(data['gp'], dtype=np.float32)\n",
        "    total = 0\n",
        "\n",
        "    # Slice the data to take only last four years\n",
        "    gp = gp[-4:] if len(gp) > 4 else gp \n",
        "\n",
        "    for i in range(1, len(gp[-4:])):\n",
        "        total += 0 if gp[-i-1] == 0 else (gp[-i] - gp[-i-1]) / abs(gp[-i-1])\n",
        "\n",
        "    denominator = 1 if len(gp)-1 == 0 else len(gp)-1\n",
        "    return total/denominator  # Find average and take 3 sigfig"
      ],
      "execution_count": 0,
      "outputs": []
    },
    {
      "cell_type": "code",
      "metadata": {
        "id": "rz0FUj-eGtji",
        "colab_type": "code",
        "colab": {}
      },
      "source": [
        "def revenue_Growth(company_name):  # Return increase percentage\n",
        "    d = df_u[df_u['tic']==company_name][['datadate', 'tic', 'revt']]\n",
        "    \n",
        "    data = d.dropna(subset = ['revt'])\n",
        "    var = np.array(data['revt'], dtype=np.float32)\n",
        "    total, avg = (0, 0)\n",
        "    \n",
        "    L = var[-4:] if len(var) > 4 else var\n",
        "\n",
        "    for i in range(1, len(L)):\n",
        "        total += 0 if L[-i-1] == 0 else (L[-i] - L[-i-1]) / abs(L[-i-1])\n",
        "\n",
        "    denominator = 1 if len(L)-1 == 0 else len(L)-1\n",
        "    return total/denominator"
      ],
      "execution_count": 0,
      "outputs": []
    },
    {
      "cell_type": "code",
      "metadata": {
        "id": "e7TUANTFNNe4",
        "colab_type": "code",
        "colab": {}
      },
      "source": [
        "def free_Cash_Flow(company_name):  # Returns increased percentages \n",
        "    d = df_u[df_u['tic']==company_name][['datadate', 'tic', 'oancf', 'capx']]\n",
        "    \n",
        "    data = d.dropna(subset = ['oancf', 'capx'])\n",
        "\n",
        "    var1 = np.array(data['oancf'], dtype=np.float32)\n",
        "    var2 = np.array(data['capx'], dtype=np.float32)\n",
        "    total = 0\n",
        "    \n",
        "    L1, L2 = (var1[-4:], var2[-4:]) if len(var1) > 4 else (var1, var2)\n",
        "\n",
        "    for i in range(1, len(L1)):\n",
        "        next_term = L1[-i-1] - L2[-i-1]\n",
        "        if next_term == 0:\n",
        "          total += 0\n",
        "        else:\n",
        "          first_term = L1[-i] - L2[-i]\n",
        "          total += (first_term - next_term) / abs(next_term)\n",
        "\n",
        "    denominator = 1 if len(L1)-1 == 0 else len(L1)-1\n",
        "    return total/denominator"
      ],
      "execution_count": 0,
      "outputs": []
    },
    {
      "cell_type": "code",
      "metadata": {
        "id": "asDkBcSROv0d",
        "colab_type": "code",
        "colab": {}
      },
      "source": [
        "def ebit(company_name):  # Finalized. Returns increased percentages\n",
        "    d = df_u[df_u['tic']==company_name][['datadate', 'tic', 'ebit']]\n",
        "    \n",
        "    data = d.dropna(subset = ['ebit'])\n",
        "    var = np.array(data['ebit'], dtype=np.float32)\n",
        "    total = 0\n",
        "    \n",
        "    L = var[-4:] if len(var) > 4 else var\n",
        "\n",
        "    for i in range(1, len(L)):\n",
        "        total += 0 if L[-i-1] == 0 else (L[-i] -  L[-i-1]) / abs(L[-i-1])\n",
        "\n",
        "    denominator = 1 if len(L)-1 == 0 else len(L)-1\n",
        "    return total/denominator"
      ],
      "execution_count": 0,
      "outputs": []
    },
    {
      "cell_type": "code",
      "metadata": {
        "id": "YbjJQ64y-1Ww",
        "colab_type": "code",
        "colab": {}
      },
      "source": [
        "def roa(company_name):  # Returns average yearly values\n",
        "    d = df_u[df_u['tic']==company_name]\\\n",
        "    [['datadate', 'tic', 'at', 'lt', 'ni']]\n",
        "\n",
        "    data = d.dropna(subset = ['ni', 'at', 'lt'])\n",
        "\n",
        "    var1 = np.array(data['ni'], dtype=np.float32)\n",
        "    var2 = np.array(data['at'], dtype=np.float32)\n",
        "    var3 = np.array(data['lt'], dtype=np.float32)\n",
        "    total = 0\n",
        "    \n",
        "    if len(var1) > 4:\n",
        "        L1, L2, L3 = var1[-4:], var2[-4:], var3[-4:]\n",
        "    else:\n",
        "        L1, L2, L3 = var1, var2, var3\n",
        "\n",
        "    for i in range(len(L1)):\n",
        "        total += L1[i]/abs(L2[i] - L3[i])\n",
        "    \n",
        "    denominator = 1 if len(L1)-1 == 0 else len(L1)-1\n",
        "    return total / denominator"
      ],
      "execution_count": 0,
      "outputs": []
    },
    {
      "cell_type": "code",
      "metadata": {
        "id": "y7031ge0hMrW",
        "colab_type": "code",
        "colab": {}
      },
      "source": [
        "def optdr(company_name):  # Finalized Returns increased percentages\n",
        "    d = df_u[df_u['tic']==company_name]\\\n",
        "    [['datadate', 'tic','optdr']]\n",
        "    \n",
        "    data = d.dropna(subset = ['optdr'])\n",
        "    var = np.array(data['optdr'], dtype=np.float32)\n",
        "    total = 0\n",
        "    \n",
        "    L = var[-4:] if len(var) > 4 else var\n",
        "\n",
        "    for i in range(1, len(L)):\n",
        "        total += 0 if L[-i-1] == 0 else (L[-i] - L[-i-1]) / abs(L[-i-1])\n",
        "\n",
        "    denominator = 1 if len(L)-1 == 0 else len(L)-1\n",
        "    return total / denominator"
      ],
      "execution_count": 0,
      "outputs": []
    },
    {
      "cell_type": "code",
      "metadata": {
        "id": "uLXMXaPXKrGw",
        "colab_type": "code",
        "colab": {}
      },
      "source": [
        "def roe(company_name):  # Returns average yearly values\n",
        "    d = df_u[df_u['tic']==company_name]\\\n",
        "    [['datadate', 'tic', 'ni', 'teq']]\n",
        "\n",
        "    data = d.dropna(subset = ['ni', 'teq'])\n",
        "    var1 = np.array(data['ni'], dtype=np.float32)\n",
        "    var2 = np.array(data['teq'], dtype=np.float32)\n",
        "    total = 0\n",
        "    \n",
        "    if len(var1) > 4:\n",
        "        L1, L2 = var1[-4:], var2[-4:]\n",
        "    else:\n",
        "        L1, L2 = var1, var2\n",
        "\n",
        "    for i in range(len(L1)):\n",
        "        total += 0 if L1[i] == 0 else L1[i]/abs(L2[i])\n",
        "            \n",
        "    denominator = 1 if len(L1)-1 == 0 else len(L1)-1\n",
        "    return total / denominator"
      ],
      "execution_count": 0,
      "outputs": []
    },
    {
      "cell_type": "code",
      "metadata": {
        "id": "qcMe4Ea1C0vw",
        "colab_type": "code",
        "colab": {}
      },
      "source": [
        "# Sum of different functions nomalized with tanh\n",
        "\n",
        "def sum_with_tanh(Name):\n",
        "    Result = 0.9 * tanh(free_Cash_Flow(Name)) \\\n",
        "            + 1 * tanh(revenue_Growth(Name)) \\\n",
        "            + 1.7 * tanh(gross_profit(Name)) \\\n",
        "            + 1.2 * tanh(ebit(Name)) \\\n",
        "            + 0.6 * tanh(optdr(Name)) \\\n",
        "            + 1.2* tanh(roa(Name))\n",
        "    return Result"
      ],
      "execution_count": 0,
      "outputs": []
    },
    {
      "cell_type": "code",
      "metadata": {
        "id": "eiZW7Dxh5Uha",
        "colab_type": "code",
        "colab": {}
      },
      "source": [
        "# Store the data in Google Drive\n",
        "\n",
        "for sector in df_otis.SECTOR.unique().tolist()[:-1]:\n",
        "\n",
        "    tech = df_otis[df_otis['SECTOR'] == sector]\n",
        "    data = tech['TICKER'].tolist()\n",
        "\n",
        "    results_pair = {}\n",
        "\n",
        "    for x in data:\n",
        "        resultVal = sum_with_tanh(x)\n",
        "        results_pair[x] = resultVal\n",
        "\n",
        "    rank = sorted(resultsPair.items(), key=lambda x: x[1], reverse=True)\n",
        "    df_result  = pd.DataFrame(rank, columns =['Company', 'index'])\n",
        "    df_result.to_csv(r\"/gdrive/My Drive/Blair/10/KWHS2019/LT_Predictions/\"+ sector +\".csv\")"
      ],
      "execution_count": 0,
      "outputs": []
    },
    {
      "cell_type": "code",
      "metadata": {
        "id": "7y6TFADWCCLJ",
        "colab_type": "code",
        "colab": {}
      },
      "source": [
        "############## ENDS HERE ##################"
      ],
      "execution_count": 0,
      "outputs": []
    },
    {
      "cell_type": "code",
      "metadata": {
        "id": "3_4b2X38AZ6s",
        "colab_type": "code",
        "colab": {}
      },
      "source": [
        "# Testing Section\n",
        "\n",
        "compl = df_otis[df_otis[\"SECTOR\"]==\"Consumer Discretionary\"]['TICKER']\n",
        "compl = compl.tolist()\n",
        "for comp in compl:\n",
        "    assert(roe(comp) == roe1(comp))\n",
        "    print(roe(comp), roe1(comp))\n",
        "\n",
        "import time\n",
        "start_time = time.time()\n",
        "roe1(comp[0])\n",
        "print(\"--- %s seconds ---\" % (time.time() - start_time))\n",
        "start_time2 = time.time()\n",
        "roe(comp[0])\n",
        "print(\"--- %s seconds ---\" % (time.time() - start_time2))"
      ],
      "execution_count": 0,
      "outputs": []
    },
    {
      "cell_type": "code",
      "metadata": {
        "id": "OktHzQd2KiEM",
        "colab_type": "code",
        "colab": {}
      },
      "source": [
        "def PB_Ratio(company_name): #TBD #Measuring avg value\n",
        "    comp = df_a[df_a['tic']==company_name]\\\n",
        "    [['datadate', 'tic', 'revt', 'gp', 'oancf', 'capx', 'at', 'lt', 'ebit', \\\n",
        "      'mkvalt', 'optdr', 'ni', 'epspi', 'bkvlps']]\n",
        "    \n",
        "    data = d.dropna(subset = ['bkvlps'])\n",
        "    \n",
        "    \n",
        "    var1 = ________________________________________________.tolist() #[4年前，3年前，两年前，1年前] 收盘价\n",
        "    var2 = data['bkvlps'].tolist()\n",
        "    \n",
        "    avg = 0\n",
        "    \n",
        "    total = 0\n",
        "    \n",
        "    if len(var1) > 4:\n",
        "        newList1 = [var1[-4], var1[-3], var1[-2], var1[-1]]\n",
        "        newList2 = [var2[-4], var2[-3], var2[-2], var2[-1]]\n",
        "    else:\n",
        "        newList1 = var1\n",
        "        newList2 = var2\n",
        "\n",
        "    if len(var1) > 1:\n",
        "        for i in range(1, len(newList1)):\n",
        "            if newList1[-i-1] == 0:\n",
        "              total += 0\n",
        "            else:\n",
        "              total += newList1[-i] / newList2[-i]\n",
        "    \n",
        "    if total == 0:\n",
        "      avg = 0\n",
        "    else:\n",
        "      result = (total / (len(newList1)))\n",
        "      avg = round((total) / len(newList1), 3)\n",
        "\n",
        "    return avg"
      ],
      "execution_count": 0,
      "outputs": []
    },
    {
      "cell_type": "code",
      "metadata": {
        "id": "NZsY7RPBI5MX",
        "colab_type": "code",
        "colab": {}
      },
      "source": [
        "def PE_Ratio(company_name): #TBD #Measuring avg value\n",
        "    comp = df_a[df_a['tic']==company_name]\\\n",
        "    [['datadate', 'tic', 'revt', 'gp', 'oancf', 'capx', 'at', 'lt', 'ebit', \\\n",
        "      'mkvalt', 'optdr', 'ni', 'epspi', 'bkvlps']]\n",
        "    \n",
        "    data = d.dropna(subset = ['optdr', 'epspi'])\n",
        "    \n",
        "    var1 = data['mkvalt'].tolist()\n",
        "    var2 = __________________________________________.tolist() #[4年前，3年前，两年前，1年前]  number of stocks outstanding\n",
        "    var3 = data['epspi'].tolist()\n",
        "\n",
        "    avg = 0\n",
        "    \n",
        "    total = 0\n",
        "    \n",
        "    if len(var1) > 4:\n",
        "        newList1 = [var1[-4], var1[-3], var1[-2], var1[-1]]\n",
        "        newList2 = [var2[-4], var2[-3], var2[-2], var2[-1]]\n",
        "        newList3 = [var3[-4], var3[-3], var3[-2], var3[-1]]\n",
        "    else:\n",
        "        newList1 = var1\n",
        "        newList2 = var2\n",
        "        newList3 = var3\n",
        "\n",
        "    if len(var1) > 1:\n",
        "        for i in range(1, len(newList1)):\n",
        "            if newList1[-i-1] == 0:\n",
        "              total += 0\n",
        "            else:\n",
        "              total += (newList1[-i] - newList2[-1])/newList3[-i]\n",
        "    \n",
        "    if total == 0:\n",
        "      avg = 0\n",
        "    else:\n",
        "      result = (total / (len(newList1)))\n",
        "      avg = round((total) / len(newList1), 3)\n",
        "\n",
        "    return avg\n"
      ],
      "execution_count": 0,
      "outputs": []
    },
    {
      "cell_type": "code",
      "metadata": {
        "id": "jgCNLgVrxxuU",
        "colab_type": "code",
        "colab": {}
      },
      "source": [
        "useful = df[['datadate', 'tic', 'revt', 'gp', 'oancf', 'capx', 'at', 'lt', 'ebit', 'mkvalt', 'optdr', 'ni', 'epspi', 'bkvlps', 'teq']]\n",
        "useful.to_csv(r\"/gdrive/My Drive/Blair/10/KWHS2019/useful_annual(1).csv\")"
      ],
      "execution_count": 0,
      "outputs": []
    }
  ]
}