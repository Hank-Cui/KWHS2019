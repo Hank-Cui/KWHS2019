{
  "nbformat": 4,
  "nbformat_minor": 0,
  "metadata": {
    "colab": {
      "name": "一些爬虫.ipynb",
      "provenance": []
    },
    "kernelspec": {
      "name": "python3",
      "display_name": "Python 3"
    }
  },
  "cells": [
    {
      "cell_type": "code",
      "metadata": {
        "id": "iU9ubOm7UKfT",
        "colab_type": "code",
        "outputId": "3eb964bf-0b90-4e00-a2ea-2f07bc6969dc",
        "colab": {
          "base_uri": "https://localhost:8080/",
          "height": 479
        }
      },
      "source": [
        "#Install yfinance\n",
        "%pip install yfinance\n",
        "%pip install selenium"
      ],
      "execution_count": 0,
      "outputs": [
        {
          "output_type": "stream",
          "text": [
            "Collecting yfinance\n",
            "  Downloading https://files.pythonhosted.org/packages/53/0e/40387099824c98be22cd7e33a620e9d38b61998b031f0b33f0b9959717d2/yfinance-0.1.45.tar.gz\n",
            "Requirement already satisfied: pandas>=0.24 in /usr/local/lib/python3.6/dist-packages (from yfinance) (0.24.2)\n",
            "Requirement already satisfied: numpy>=1.15 in /usr/local/lib/python3.6/dist-packages (from yfinance) (1.16.5)\n",
            "Requirement already satisfied: requests>=2.20 in /usr/local/lib/python3.6/dist-packages (from yfinance) (2.21.0)\n",
            "Requirement already satisfied: multitasking>=0.0.7 in /usr/local/lib/python3.6/dist-packages (from yfinance) (0.0.9)\n",
            "Requirement already satisfied: python-dateutil>=2.5.0 in /usr/local/lib/python3.6/dist-packages (from pandas>=0.24->yfinance) (2.5.3)\n",
            "Requirement already satisfied: pytz>=2011k in /usr/local/lib/python3.6/dist-packages (from pandas>=0.24->yfinance) (2018.9)\n",
            "Requirement already satisfied: certifi>=2017.4.17 in /usr/local/lib/python3.6/dist-packages (from requests>=2.20->yfinance) (2019.6.16)\n",
            "Requirement already satisfied: chardet<3.1.0,>=3.0.2 in /usr/local/lib/python3.6/dist-packages (from requests>=2.20->yfinance) (3.0.4)\n",
            "Requirement already satisfied: urllib3<1.25,>=1.21.1 in /usr/local/lib/python3.6/dist-packages (from requests>=2.20->yfinance) (1.24.3)\n",
            "Requirement already satisfied: idna<2.9,>=2.5 in /usr/local/lib/python3.6/dist-packages (from requests>=2.20->yfinance) (2.8)\n",
            "Requirement already satisfied: six>=1.5 in /usr/local/lib/python3.6/dist-packages (from python-dateutil>=2.5.0->pandas>=0.24->yfinance) (1.12.0)\n",
            "Building wheels for collected packages: yfinance\n",
            "  Building wheel for yfinance (setup.py) ... \u001b[?25l\u001b[?25hdone\n",
            "  Created wheel for yfinance: filename=yfinance-0.1.45-cp36-none-any.whl size=14652 sha256=e0cd301d0e5109136a185769af30b24e0b346a1fe366aef0179ae0dee35e531e\n",
            "  Stored in directory: /root/.cache/pip/wheels/0c/d1/df/aa9a7744a4ac353cc9a1f2c3aaea7c1f457fc49de4286f2d88\n",
            "Successfully built yfinance\n",
            "Installing collected packages: yfinance\n",
            "Successfully installed yfinance-0.1.45\n",
            "Collecting selenium\n",
            "\u001b[?25l  Downloading https://files.pythonhosted.org/packages/80/d6/4294f0b4bce4de0abf13e17190289f9d0613b0a44e5dd6a7f5ca98459853/selenium-3.141.0-py2.py3-none-any.whl (904kB)\n",
            "\u001b[K     |████████████████████████████████| 911kB 2.8MB/s \n",
            "\u001b[?25hRequirement already satisfied: urllib3 in /usr/local/lib/python3.6/dist-packages (from selenium) (1.24.3)\n",
            "Installing collected packages: selenium\n",
            "Successfully installed selenium-3.141.0\n"
          ],
          "name": "stdout"
        }
      ]
    },
    {
      "cell_type": "code",
      "metadata": {
        "id": "twfcBpDoxmn0",
        "colab_type": "code",
        "colab": {}
      },
      "source": [
        "import time\n",
        "import requests\n",
        "from bs4 import BeautifulSoup\n",
        "from selenium.webdriver.common.keys import Keys\n",
        "\n",
        "import pandas as pd\n",
        "import numpy as np\n",
        "\n",
        "from pandas_datareader import data\n",
        "import matplotlib.pyplot as plt\n",
        "import yfinance as yf"
      ],
      "execution_count": 0,
      "outputs": []
    },
    {
      "cell_type": "code",
      "metadata": {
        "id": "hRvscfxD3kLG",
        "colab_type": "code",
        "colab": {}
      },
      "source": [
        "from google.colab import drive\n",
        "drive.mount('/gdrive')"
      ],
      "execution_count": 0,
      "outputs": []
    },
    {
      "cell_type": "code",
      "metadata": {
        "id": "yN25Jvc2b9Gv",
        "colab_type": "code",
        "colab": {}
      },
      "source": [
        "# Selenium Colab\n",
        "# 暂时不用了\n",
        "\n",
        "install chromium, its driver, and selenium:\n",
        "!pip install selenium\n",
        "!apt-get update # to update ubuntu to correctly run apt install\n",
        "!apt install chromium-chromedriver\n",
        "!cp /usr/lib/chromium-browser/chromedriver /usr/bin\n",
        "import sys\n",
        "sys.path.insert(0,'/usr/lib/chromium-browser/chromedriver')\n",
        "from selenium import webdriver\n",
        "chrome_options = webdriver.ChromeOptions()\n",
        "preferences = {\"download.default_directory\":\"/content\", \n",
        "               \"safebrowsing.enabled\":\"false\", \n",
        "               \"profile.default_content_settings.popups\": 0}\n",
        "chrome_options.add_argument('--headless')\n",
        "chrome_options.add_argument('--no-sandbox')\n",
        "chrome_options.add_argument('--disable-dev-shm-usage')\n",
        "chrome_options.add_experimental_option(\"prefs\", preferences)\n",
        "wd = webdriver.Chrome('chromedriver',chrome_options=chrome_options)\n",
        "wd.get(\"https://www.google.com\")"
      ],
      "execution_count": 0,
      "outputs": []
    },
    {
      "cell_type": "code",
      "metadata": {
        "id": "kowJFRJ-NtFm",
        "colab_type": "code",
        "colab": {}
      },
      "source": [
        "# 获取页面HTML\n",
        "# 调试用\n",
        "\n",
        "def get_html(url):\n",
        "    wp = requests.get(url)\n",
        "    web_html = BeautifulSoup(wp.text, 'html.parser')\n",
        "    file = open('test.html', 'w')  # 创建并打开html文件\n",
        "    file.write(web_html.prettify())  # 写入美丽的汤prettify后的文字\n",
        "    file.close()\n"
      ],
      "execution_count": 0,
      "outputs": []
    },
    {
      "cell_type": "code",
      "metadata": {
        "id": "GRPb2MG3Ubvx",
        "colab_type": "code",
        "colab": {}
      },
      "source": [
        "# 用yfinace获取csv历史数据\n",
        "\n",
        "def get_hist_data(tickets_list):\n",
        "    for ticket in tickets_list:\n",
        "        company = yf.Ticker(ticket)\n",
        "        company.info  # get stock info\n",
        "        hist = company.history(period=\"max\")  # get historical market data\n",
        "        hist.to_csv(r'/content//' + ticket + \".csv\")"
      ],
      "execution_count": 0,
      "outputs": []
    },
    {
      "cell_type": "code",
      "metadata": {
        "id": "zeGqGaY4Uf0R",
        "colab_type": "code",
        "colab": {}
      },
      "source": [
        "# 在这个里面填股票代码\n",
        "TICKETS = ['AAPL', 'GOOG']\n",
        "get_hist_data(TICKETS)"
      ],
      "execution_count": 0,
      "outputs": []
    },
    {
      "cell_type": "code",
      "metadata": {
        "id": "WvRBzfJ0ZA0_",
        "colab_type": "code",
        "colab": {}
      },
      "source": [
        "# 一堆不太好用的东西\n",
        "\n",
        "# wd.get(\"https://finance.yahoo.com/quote/AAPL/history?period1=0&period2=1569297600&interval=1d&filter=history&frequency=1d\")\n",
        "# xpath = '''//*[@id=\"Col1-1-HistoricalDataTable-Proxy\"]/section/div[1]/div[2]/span[2]/a'''\n",
        "# wd.find_element_by_xpath(xpath).click()\n",
        "# elem = wd.find_element_by_tag_name(\"body\")\n",
        "\n",
        "# no_of_scrowdowns = 100\n",
        "\n",
        "# while no_of_scrowdowns:\n",
        "#     elem.send_keys(Keys.PAGE_DOWN)\n",
        "#     #time.sleep(0.1)\n",
        "#     no_of_scrowdowns-=1\n",
        "\n",
        "# df = pd.read_html(wd.page_source)"
      ],
      "execution_count": 0,
      "outputs": []
    },
    {
      "cell_type": "code",
      "metadata": {
        "id": "79ozC_NaaQfd",
        "colab_type": "code",
        "colab": {}
      },
      "source": [
        "wp = requests.get(\"http://vip.stock.finance.sina.com.cn/usstock/ustotal.php\")\n",
        "web_html = BeautifulSoup(wp.text, 'html.parser')\n",
        "\n",
        "soup = BeautifulSoup(str(web_html))\n",
        "urls = []\n",
        "\n",
        "for a in soup.find_all('a', href=True):\n",
        "    if \n",
        "    urls.append(a['href'])\n",
        "\n",
        "for i in range(len(urls)):\n",
        "    if len(urls[i]) == 58: urls[i] = urls[i][48:53]\n",
        "    elif len(urls[i]) == 57: urls[i] = urls[i][48:52]\n",
        "    elif len(urls[i]) == 56: urls[i] = urls[i][48:51]\n",
        "    elif len(urls[i]) == 55: urls[i] = urls[i][48:50]\n",
        "    elif len(urls[i]) == 54: urls[i] = urls[i][48:49]\n",
        "\n",
        "get_hist_data(urls[21:-13])"
      ],
      "execution_count": 0,
      "outputs": []
    }
  ]
}