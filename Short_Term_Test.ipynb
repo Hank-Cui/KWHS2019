{
  "nbformat": 4,
  "nbformat_minor": 0,
  "metadata": {
    "colab": {
      "name": "Short_Term_Test.ipynb",
      "provenance": [],
      "collapsed_sections": [],
      "machine_shape": "hm",
      "include_colab_link": true
    },
    "kernelspec": {
      "name": "python3",
      "display_name": "Python 3"
    },
    "accelerator": "GPU"
  },
  "cells": [
    {
      "cell_type": "markdown",
      "metadata": {
        "id": "view-in-github",
        "colab_type": "text"
      },
      "source": [
        "<a href=\"https://colab.research.google.com/github/Hank-Cui/otis2019/blob/master/Short_Term_Test.ipynb\" target=\"_parent\"><img src=\"https://colab.research.google.com/assets/colab-badge.svg\" alt=\"Open In Colab\"/></a>"
      ]
    },
    {
      "cell_type": "code",
      "metadata": {
        "id": "bwRY2Ddil66I",
        "colab_type": "code",
        "outputId": "43d6334a-454a-405e-f631-4a44d6a65d8b",
        "colab": {
          "base_uri": "https://localhost:8080/",
          "height": 68
        }
      },
      "source": [
        "import numpy as np\n",
        "import pandas as pd\n",
        "\n",
        "import matplotlib.pyplot as plt\n",
        "import matplotlib.dates as mdates\n",
        "import matplotlib.ticker as ticker\n",
        "\n",
        "from statsmodels.tsa.arima_model import ARIMA\n",
        "from pandas.plotting import autocorrelation_plot\n",
        "\n",
        "from sklearn.metrics import mean_squared_error\n",
        "from sklearn.model_selection import train_test_split\n",
        "from sklearn.decomposition import PCA\n",
        "\n",
        "%pip install --upgrade xgboost\n",
        "import xgboost as xgb\n",
        "\n",
        "import os\n",
        "import time\n",
        "import glob\n",
        "import PIL\n",
        "import imageio\n",
        "from IPython import display\n",
        "from IPython.display import clear_output"
      ],
      "execution_count": 3,
      "outputs": [
        {
          "output_type": "stream",
          "text": [
            "Requirement already up-to-date: xgboost in /usr/local/lib/python3.6/dist-packages (0.90)\n",
            "Requirement already satisfied, skipping upgrade: scipy in /usr/local/lib/python3.6/dist-packages (from xgboost) (1.3.1)\n",
            "Requirement already satisfied, skipping upgrade: numpy in /usr/local/lib/python3.6/dist-packages (from xgboost) (1.17.3)\n"
          ],
          "name": "stdout"
        }
      ]
    },
    {
      "cell_type": "code",
      "metadata": {
        "id": "o0Y-Oou5mANI",
        "colab_type": "code",
        "colab": {}
      },
      "source": [
        "import torch\n",
        "import torch.nn"
      ],
      "execution_count": 0,
      "outputs": []
    },
    {
      "cell_type": "code",
      "metadata": {
        "id": "lXqsoSNEmK8p",
        "colab_type": "code",
        "outputId": "e224acb8-09c2-45ba-e8e4-77174e2fa050",
        "colab": {
          "base_uri": "https://localhost:8080/",
          "height": 122
        }
      },
      "source": [
        "from google.colab import drive\n",
        "drive.mount('/gdrive')"
      ],
      "execution_count": 5,
      "outputs": [
        {
          "output_type": "stream",
          "text": [
            "Go to this URL in a browser: https://accounts.google.com/o/oauth2/auth?client_id=947318989803-6bn6qk8qdgf4n4g3pfee6491hc0brc4i.apps.googleusercontent.com&redirect_uri=urn%3Aietf%3Awg%3Aoauth%3A2.0%3Aoob&scope=email%20https%3A%2F%2Fwww.googleapis.com%2Fauth%2Fdocs.test%20https%3A%2F%2Fwww.googleapis.com%2Fauth%2Fdrive%20https%3A%2F%2Fwww.googleapis.com%2Fauth%2Fdrive.photos.readonly%20https%3A%2F%2Fwww.googleapis.com%2Fauth%2Fpeopleapi.readonly&response_type=code\n",
            "\n",
            "Enter your authorization code:\n",
            "··········\n",
            "Mounted at /gdrive\n"
          ],
          "name": "stdout"
        }
      ]
    },
    {
      "cell_type": "code",
      "metadata": {
        "id": "Eu1ZDgfPnNKh",
        "colab_type": "code",
        "colab": {}
      },
      "source": [
        "#df = pd.read_csv(\"/gdrive/My Drive/Blair/10/KWHS2019/KWHS_list.csv\")\n",
        "df = pd.read_csv(\"/content/AAPL.csv\")\n",
        "# stock_list = df['TICKER']\n",
        "# technology = df[df['SECTOR'] == \"Technology\"]\n",
        "# energy = df[df['SECTOR'] == \"Energy\"]"
      ],
      "execution_count": 0,
      "outputs": []
    },
    {
      "cell_type": "code",
      "metadata": {
        "id": "Ov1K-DtIPVx5",
        "colab_type": "code",
        "outputId": "02afbd3e-713e-4d79-df48-2a17f1592e8b",
        "colab": {
          "base_uri": "https://localhost:8080/",
          "height": 238
        }
      },
      "source": [
        "comp_tic = \"GOOG\"\n",
        "days = 365\n",
        "\n",
        "df = pd.read_csv(\"/gdrive/My Drive/Blair/10/KWHS2019/hist_data/\"+comp_tic+\".csv\")\n",
        "df = df[-days:]\n",
        "df.head()\n",
        "df.info()"
      ],
      "execution_count": 6,
      "outputs": [
        {
          "output_type": "stream",
          "text": [
            "<class 'pandas.core.frame.DataFrame'>\n",
            "RangeIndex: 365 entries, 3453 to 3817\n",
            "Data columns (total 8 columns):\n",
            "Date            365 non-null object\n",
            "Open            365 non-null float64\n",
            "High            365 non-null float64\n",
            "Low             365 non-null float64\n",
            "Close           365 non-null float64\n",
            "Volume          365 non-null int64\n",
            "Dividends       365 non-null int64\n",
            "Stock Splits    365 non-null float64\n",
            "dtypes: float64(5), int64(2), object(1)\n",
            "memory usage: 22.9+ KB\n"
          ],
          "name": "stdout"
        }
      ]
    },
    {
      "cell_type": "code",
      "metadata": {
        "id": "E1QjJM63f8q-",
        "colab_type": "code",
        "colab": {}
      },
      "source": [
        "def plot_stock(company_name, days):\n",
        "    comp_tic = company_name\n",
        "\n",
        "    df = pd.read_csv(\"/gdrive/My Drive/Blair/10/KWHS2019/hist_data/\"+comp_tic+\".csv\")\n",
        "    df = df[-days:]\n",
        "\n",
        "    df['Date'] = pd.to_datetime(df.Date,format='%Y-%m-%d')\n",
        "    df.index = df['Date']\n",
        "\n",
        "    #plot\n",
        "    df = tech_indictor(df)\n",
        "\n",
        "    plt.figure(figsize=(16,9), dpi=80)\n",
        "    plt.plot(df['Close'], label='Close Price history')\n",
        "    plt.plot(df['macd'], label='MACD', color='orange')\n",
        "    plt.plot(df['dea'], label='DEA', color='Magenta')\n",
        "    plt.plot(df['ma21'], label='MA 21', color='r', linestyle='--')\n",
        "    plt.plot(df['upper_band'], label='Upper Band', color='c')\n",
        "    plt.plot(df['lower_band'], label='Lower Band', color='c')\n",
        "    plt.plot(df['ma7'], label='MA 7', color='g',linestyle='--')\n",
        "\n",
        "    plt.title(comp_tic+' Stock Price') # 添加标题\n",
        "    plt.xlabel('Date') \n",
        "    plt.ylabel('USD')\n",
        "    plt.legend(loc='upper left')\n",
        "    plt.show()"
      ],
      "execution_count": 0,
      "outputs": []
    },
    {
      "cell_type": "code",
      "metadata": {
        "id": "FtvK_oh_19eQ",
        "colab_type": "code",
        "colab": {}
      },
      "source": [
        "def tech_indictor(data):\n",
        "\n",
        "    # Simple Moving Average\n",
        "    data['ma7'] = data['Close'].rolling(window=7).mean()\n",
        "    data['ma21'] = data['Close'].rolling(window=21).mean()\n",
        "\n",
        "    # MACD indicator\n",
        "    data['ema12'] = data.Close.ewm(span=12, adjust=False).mean()\n",
        "    data['ema26'] = data.Close.ewm(span=26, adjust=False).mean()\n",
        "    data['dea'] = data.Close.ewm(span=9, adjust=False).mean()\n",
        "    data['macd'] = data['ema12']-data['ema26']\n",
        "\n",
        "    # Bollinger Band\n",
        "    data['md'] = data.Close.rolling(window=20).std()\n",
        "    data['upper_band'] = data['ma21'] + (data['md'] * 2)\n",
        "    data['lower_band'] = data['ma21'] - (data['md'] * 2)\n",
        "\n",
        "    # Momentum\n",
        "    data['momentum'] = data['Close'] - 1\n",
        "\n",
        "    # Exponential Moving Average\n",
        "    data['ema'] = data['Close'].ewm(com=0.5).mean()\n",
        "\n",
        "    return data"
      ],
      "execution_count": 0,
      "outputs": []
    },
    {
      "cell_type": "code",
      "metadata": {
        "id": "hAnBNBx7dXnR",
        "colab_type": "code",
        "outputId": "cce8fd90-157c-4dca-a2a9-c2689e846490",
        "colab": {
          "base_uri": "https://localhost:8080/",
          "height": 34
        }
      },
      "source": [
        "def fundamental_analysis():\n",
        "  print(\"#ToDo\")\n",
        "\n",
        "fundamental_analysis()"
      ],
      "execution_count": 9,
      "outputs": [
        {
          "output_type": "stream",
          "text": [
            "#ToDo\n"
          ],
          "name": "stdout"
        }
      ]
    },
    {
      "cell_type": "code",
      "metadata": {
        "id": "cjQGry0MPz0r",
        "colab_type": "code",
        "colab": {}
      },
      "source": [
        " def fourier_transform(df):\n",
        "    data_FT = df[['Date', 'Close']]\n",
        "    fft_list = np.fft.fft(np.array(data_FT['Close']))\n",
        "\n",
        "    plt.figure(figsize=(14, 7), dpi=100)\n",
        "\n",
        "    for i in [3, 6, 9, 30]:\n",
        "        fft_a = np.copy(fft_list)\n",
        "        fft_a[i:-i] = 0\n",
        "        plt.plot(np.fft.ifft(fft_a), label = 'Fourier Transform of %i components' % i)\n",
        "\n",
        "    plt.plot(np.array(data_FT['Close']),  label='Real')\n",
        "    plt.xlabel('Days')\n",
        "    plt.ylabel('USD')\n",
        "    plt.title('{} close stock prices + Fourier transforms of recent {} days'.format(comp_tic, days))\n",
        "    plt.legend()\n",
        "    plt.show()\n",
        "\n",
        "    return df"
      ],
      "execution_count": 0,
      "outputs": []
    },
    {
      "cell_type": "code",
      "metadata": {
        "colab_type": "code",
        "id": "Hrs9p-M3TuFB",
        "colab": {}
      },
      "source": [
        "def arima_predictions(df):\n",
        "\n",
        "    data = np.array(df['Close'])\n",
        "\n",
        "    model = ARIMA(data, order=(5, 1, 0))\n",
        "    model_fit = model.fit(disp=0)\n",
        "    print(model_fit.summary())\n",
        "    autocorrelation_plot(data)  \n",
        "    plt.figure(figsize=(10, 7), dpi=80)\n",
        "    plt.show() \n",
        "\n",
        "    train, test = train_test_split(data, test_size=0.33, shuffle=False)\n",
        "\n",
        "    history = [x for x in train]\n",
        "    predictions_test = []\n",
        "\n",
        "    # train data\n",
        "    for i in range(len(test)): \n",
        "        model = ARIMA(history, order=(5,1,0))\n",
        "        model_fit = model.fit(disp=0)\n",
        "        output = model_fit.forecast()\n",
        "        result = output[0]\n",
        "        predictions_test.append(result)\n",
        "        obs = test[i]\n",
        "        history.append(obs)\n",
        "\n",
        "    # df['ARIMA'] = predictions\n",
        "    error = mean_squared_error(test, predictions)  # calculate MSE\n",
        "    print('Test MSE: %.3f' % error)\n",
        "\n",
        "    plt.figure(figsize=(12, 6), dpi=100)\n",
        "    plt.plot(test, label='Real')\n",
        "    plt.plot(predictions_test, color='red', label='Predicted')\n",
        "    plt.xlabel('Days')\n",
        "    plt.ylabel('USD')\n",
        "    plt.title('ARIMA model on {} stock'.format(comp_tic))\n",
        "    plt.legend()\n",
        "    plt.show()\n",
        "\n",
        "    predictions = []\n",
        "    for i in range(len(data)): \n",
        "        model = ARIMA(history, order=(5,1,0))\n",
        "        model_fit = model.fit(disp=0)\n",
        "        output = model_fit.forecast()\n",
        "        result = output[0]\n",
        "        predictions.append(result)\n",
        "        obs = test[i]\n",
        "        history.append(obs)\n",
        "    predictions = [i for value in predictions for i in value]\n",
        "    df[\"ARIMA\"] = predictions\n",
        "\n",
        "    return df"
      ],
      "execution_count": 0,
      "outputs": []
    },
    {
      "cell_type": "code",
      "metadata": {
        "id": "0TBGWLvha4dG",
        "colab_type": "code",
        "outputId": "4c90e290-5a16-4237-e948-e6e99075d6a1",
        "colab": {
          "base_uri": "https://localhost:8080/",
          "height": 974
        }
      },
      "source": [
        "df = tech_indictor(df)\n",
        "df = fourier_transform(df)\n",
        "# df = arima_predictions(df)\n",
        "df.head()"
      ],
      "execution_count": 12,
      "outputs": [
        {
          "output_type": "stream",
          "text": [
            "/usr/local/lib/python3.6/dist-packages/numpy/core/_asarray.py:85: ComplexWarning: Casting complex values to real discards the imaginary part\n",
            "  return array(a, dtype, copy=False, order=order)\n"
          ],
          "name": "stderr"
        },
        {
          "output_type": "display_data",
          "data": {
            "image/png": "[encoded data removed]",
            "text/plain": [
              "<Figure size 1400x700 with 1 Axes>"
            ]
          },
          "metadata": {
            "tags": []
          }
        },
        {
          "output_type": "execute_result",
          "data": {
            "text/html": [
              "<div>\n",
              "<style scoped>\n",
              "    .dataframe tbody tr th:only-of-type {\n",
              "        vertical-align: middle;\n",
              "    }\n",
              "\n",
              "    .dataframe tbody tr th {\n",
              "        vertical-align: top;\n",
              "    }\n",
              "\n",
              "    .dataframe thead th {\n",
              "        text-align: right;\n",
              "    }\n",
              "</style>\n",
              "<table border=\"1\" class=\"dataframe\">\n",
              "  <thead>\n",
              "    <tr style=\"text-align: right;\">\n",
              "      <th></th>\n",
              "      <th>Date</th>\n",
              "      <th>Open</th>\n",
              "      <th>High</th>\n",
              "      <th>Low</th>\n",
              "      <th>Close</th>\n",
              "      <th>Volume</th>\n",
              "      <th>Dividends</th>\n",
              "      <th>Stock Splits</th>\n",
              "      <th>ma7</th>\n",
              "      <th>ma21</th>\n",
              "      <th>ema12</th>\n",
              "      <th>ema26</th>\n",
              "      <th>dea</th>\n",
              "      <th>macd</th>\n",
              "      <th>md</th>\n",
              "      <th>upper_band</th>\n",
              "      <th>lower_band</th>\n",
              "      <th>momentum</th>\n",
              "      <th>ema</th>\n",
              "    </tr>\n",
              "  </thead>\n",
              "  <tbody>\n",
              "    <tr>\n",
              "      <th>3453</th>\n",
              "      <td>2018-05-08</td>\n",
              "      <td>1058.540039</td>\n",
              "      <td>1060.550049</td>\n",
              "      <td>1047.145020</td>\n",
              "      <td>1053.910034</td>\n",
              "      <td>1217700</td>\n",
              "      <td>0</td>\n",
              "      <td>0.0</td>\n",
              "      <td>NaN</td>\n",
              "      <td>NaN</td>\n",
              "      <td>1053.910034</td>\n",
              "      <td>1053.910034</td>\n",
              "      <td>1053.910034</td>\n",
              "      <td>0.000000</td>\n",
              "      <td>NaN</td>\n",
              "      <td>NaN</td>\n",
              "      <td>NaN</td>\n",
              "      <td>1052.910034</td>\n",
              "      <td>1053.910034</td>\n",
              "    </tr>\n",
              "    <tr>\n",
              "      <th>3454</th>\n",
              "      <td>2018-05-09</td>\n",
              "      <td>1058.099976</td>\n",
              "      <td>1085.439941</td>\n",
              "      <td>1056.364990</td>\n",
              "      <td>1082.760010</td>\n",
              "      <td>2032800</td>\n",
              "      <td>0</td>\n",
              "      <td>0.0</td>\n",
              "      <td>NaN</td>\n",
              "      <td>NaN</td>\n",
              "      <td>1058.348492</td>\n",
              "      <td>1056.047069</td>\n",
              "      <td>1059.680029</td>\n",
              "      <td>2.301423</td>\n",
              "      <td>NaN</td>\n",
              "      <td>NaN</td>\n",
              "      <td>NaN</td>\n",
              "      <td>1081.760010</td>\n",
              "      <td>1075.547516</td>\n",
              "    </tr>\n",
              "    <tr>\n",
              "      <th>3455</th>\n",
              "      <td>2018-05-10</td>\n",
              "      <td>1086.030029</td>\n",
              "      <td>1100.439941</td>\n",
              "      <td>1085.640015</td>\n",
              "      <td>1097.569946</td>\n",
              "      <td>1443000</td>\n",
              "      <td>0</td>\n",
              "      <td>0.0</td>\n",
              "      <td>NaN</td>\n",
              "      <td>NaN</td>\n",
              "      <td>1064.382562</td>\n",
              "      <td>1059.122838</td>\n",
              "      <td>1067.258013</td>\n",
              "      <td>5.259724</td>\n",
              "      <td>NaN</td>\n",
              "      <td>NaN</td>\n",
              "      <td>NaN</td>\n",
              "      <td>1096.569946</td>\n",
              "      <td>1090.793814</td>\n",
              "    </tr>\n",
              "    <tr>\n",
              "      <th>3456</th>\n",
              "      <td>2018-05-11</td>\n",
              "      <td>1093.599976</td>\n",
              "      <td>1101.329956</td>\n",
              "      <td>1090.910034</td>\n",
              "      <td>1098.260010</td>\n",
              "      <td>1253700</td>\n",
              "      <td>0</td>\n",
              "      <td>0.0</td>\n",
              "      <td>NaN</td>\n",
              "      <td>NaN</td>\n",
              "      <td>1069.594477</td>\n",
              "      <td>1062.021888</td>\n",
              "      <td>1073.458412</td>\n",
              "      <td>7.572589</td>\n",
              "      <td>NaN</td>\n",
              "      <td>NaN</td>\n",
              "      <td>NaN</td>\n",
              "      <td>1097.260010</td>\n",
              "      <td>1095.833496</td>\n",
              "    </tr>\n",
              "    <tr>\n",
              "      <th>3457</th>\n",
              "      <td>2018-05-14</td>\n",
              "      <td>1100.000000</td>\n",
              "      <td>1110.750000</td>\n",
              "      <td>1099.109985</td>\n",
              "      <td>1100.199951</td>\n",
              "      <td>1518100</td>\n",
              "      <td>0</td>\n",
              "      <td>0.0</td>\n",
              "      <td>NaN</td>\n",
              "      <td>NaN</td>\n",
              "      <td>1074.303011</td>\n",
              "      <td>1064.849893</td>\n",
              "      <td>1078.806720</td>\n",
              "      <td>9.453119</td>\n",
              "      <td>NaN</td>\n",
              "      <td>NaN</td>\n",
              "      <td>NaN</td>\n",
              "      <td>1099.199951</td>\n",
              "      <td>1098.756495</td>\n",
              "    </tr>\n",
              "  </tbody>\n",
              "</table>\n",
              "</div>"
            ],
            "text/plain": [
              "            Date         Open  ...     momentum          ema\n",
              "3453  2018-05-08  1058.540039  ...  1052.910034  1053.910034\n",
              "3454  2018-05-09  1058.099976  ...  1081.760010  1075.547516\n",
              "3455  2018-05-10  1086.030029  ...  1096.569946  1090.793814\n",
              "3456  2018-05-11  1093.599976  ...  1097.260010  1095.833496\n",
              "3457  2018-05-14  1100.000000  ...  1099.199951  1098.756495\n",
              "\n",
              "[5 rows x 19 columns]"
            ]
          },
          "metadata": {
            "tags": []
          },
          "execution_count": 12
        }
      ]
    },
    {
      "cell_type": "code",
      "metadata": {
        "id": "SU48edrJyCi3",
        "colab_type": "code",
        "outputId": "7725fe8d-2110-4b9c-8115-02539d9364af",
        "colab": {
          "base_uri": "https://localhost:8080/",
          "height": 326
        }
      },
      "source": [
        "df[\"y_data\"] = df.Close.shift(1)\n",
        "df = df.fillna(0)\n",
        "df.head()\n",
        "# data = df.values\n",
        "# data"
      ],
      "execution_count": 13,
      "outputs": [
        {
          "output_type": "execute_result",
          "data": {
            "text/html": [
              "<div>\n",
              "<style scoped>\n",
              "    .dataframe tbody tr th:only-of-type {\n",
              "        vertical-align: middle;\n",
              "    }\n",
              "\n",
              "    .dataframe tbody tr th {\n",
              "        vertical-align: top;\n",
              "    }\n",
              "\n",
              "    .dataframe thead th {\n",
              "        text-align: right;\n",
              "    }\n",
              "</style>\n",
              "<table border=\"1\" class=\"dataframe\">\n",
              "  <thead>\n",
              "    <tr style=\"text-align: right;\">\n",
              "      <th></th>\n",
              "      <th>Date</th>\n",
              "      <th>Open</th>\n",
              "      <th>High</th>\n",
              "      <th>Low</th>\n",
              "      <th>Close</th>\n",
              "      <th>Volume</th>\n",
              "      <th>Dividends</th>\n",
              "      <th>Stock Splits</th>\n",
              "      <th>ma7</th>\n",
              "      <th>ma21</th>\n",
              "      <th>ema12</th>\n",
              "      <th>ema26</th>\n",
              "      <th>dea</th>\n",
              "      <th>macd</th>\n",
              "      <th>md</th>\n",
              "      <th>upper_band</th>\n",
              "      <th>lower_band</th>\n",
              "      <th>momentum</th>\n",
              "      <th>ema</th>\n",
              "      <th>y_data</th>\n",
              "    </tr>\n",
              "  </thead>\n",
              "  <tbody>\n",
              "    <tr>\n",
              "      <th>3453</th>\n",
              "      <td>2018-05-08</td>\n",
              "      <td>1058.540039</td>\n",
              "      <td>1060.550049</td>\n",
              "      <td>1047.145020</td>\n",
              "      <td>1053.910034</td>\n",
              "      <td>1217700</td>\n",
              "      <td>0</td>\n",
              "      <td>0.0</td>\n",
              "      <td>0.0</td>\n",
              "      <td>0.0</td>\n",
              "      <td>1053.910034</td>\n",
              "      <td>1053.910034</td>\n",
              "      <td>1053.910034</td>\n",
              "      <td>0.000000</td>\n",
              "      <td>0.0</td>\n",
              "      <td>0.0</td>\n",
              "      <td>0.0</td>\n",
              "      <td>1052.910034</td>\n",
              "      <td>1053.910034</td>\n",
              "      <td>0.000000</td>\n",
              "    </tr>\n",
              "    <tr>\n",
              "      <th>3454</th>\n",
              "      <td>2018-05-09</td>\n",
              "      <td>1058.099976</td>\n",
              "      <td>1085.439941</td>\n",
              "      <td>1056.364990</td>\n",
              "      <td>1082.760010</td>\n",
              "      <td>2032800</td>\n",
              "      <td>0</td>\n",
              "      <td>0.0</td>\n",
              "      <td>0.0</td>\n",
              "      <td>0.0</td>\n",
              "      <td>1058.348492</td>\n",
              "      <td>1056.047069</td>\n",
              "      <td>1059.680029</td>\n",
              "      <td>2.301423</td>\n",
              "      <td>0.0</td>\n",
              "      <td>0.0</td>\n",
              "      <td>0.0</td>\n",
              "      <td>1081.760010</td>\n",
              "      <td>1075.547516</td>\n",
              "      <td>1053.910034</td>\n",
              "    </tr>\n",
              "    <tr>\n",
              "      <th>3455</th>\n",
              "      <td>2018-05-10</td>\n",
              "      <td>1086.030029</td>\n",
              "      <td>1100.439941</td>\n",
              "      <td>1085.640015</td>\n",
              "      <td>1097.569946</td>\n",
              "      <td>1443000</td>\n",
              "      <td>0</td>\n",
              "      <td>0.0</td>\n",
              "      <td>0.0</td>\n",
              "      <td>0.0</td>\n",
              "      <td>1064.382562</td>\n",
              "      <td>1059.122838</td>\n",
              "      <td>1067.258013</td>\n",
              "      <td>5.259724</td>\n",
              "      <td>0.0</td>\n",
              "      <td>0.0</td>\n",
              "      <td>0.0</td>\n",
              "      <td>1096.569946</td>\n",
              "      <td>1090.793814</td>\n",
              "      <td>1082.760010</td>\n",
              "    </tr>\n",
              "    <tr>\n",
              "      <th>3456</th>\n",
              "      <td>2018-05-11</td>\n",
              "      <td>1093.599976</td>\n",
              "      <td>1101.329956</td>\n",
              "      <td>1090.910034</td>\n",
              "      <td>1098.260010</td>\n",
              "      <td>1253700</td>\n",
              "      <td>0</td>\n",
              "      <td>0.0</td>\n",
              "      <td>0.0</td>\n",
              "      <td>0.0</td>\n",
              "      <td>1069.594477</td>\n",
              "      <td>1062.021888</td>\n",
              "      <td>1073.458412</td>\n",
              "      <td>7.572589</td>\n",
              "      <td>0.0</td>\n",
              "      <td>0.0</td>\n",
              "      <td>0.0</td>\n",
              "      <td>1097.260010</td>\n",
              "      <td>1095.833496</td>\n",
              "      <td>1097.569946</td>\n",
              "    </tr>\n",
              "    <tr>\n",
              "      <th>3457</th>\n",
              "      <td>2018-05-14</td>\n",
              "      <td>1100.000000</td>\n",
              "      <td>1110.750000</td>\n",
              "      <td>1099.109985</td>\n",
              "      <td>1100.199951</td>\n",
              "      <td>1518100</td>\n",
              "      <td>0</td>\n",
              "      <td>0.0</td>\n",
              "      <td>0.0</td>\n",
              "      <td>0.0</td>\n",
              "      <td>1074.303011</td>\n",
              "      <td>1064.849893</td>\n",
              "      <td>1078.806720</td>\n",
              "      <td>9.453119</td>\n",
              "      <td>0.0</td>\n",
              "      <td>0.0</td>\n",
              "      <td>0.0</td>\n",
              "      <td>1099.199951</td>\n",
              "      <td>1098.756495</td>\n",
              "      <td>1098.260010</td>\n",
              "    </tr>\n",
              "  </tbody>\n",
              "</table>\n",
              "</div>"
            ],
            "text/plain": [
              "            Date         Open  ...          ema       y_data\n",
              "3453  2018-05-08  1058.540039  ...  1053.910034     0.000000\n",
              "3454  2018-05-09  1058.099976  ...  1075.547516  1053.910034\n",
              "3455  2018-05-10  1086.030029  ...  1090.793814  1082.760010\n",
              "3456  2018-05-11  1093.599976  ...  1095.833496  1097.569946\n",
              "3457  2018-05-14  1100.000000  ...  1098.756495  1098.260010\n",
              "\n",
              "[5 rows x 20 columns]"
            ]
          },
          "metadata": {
            "tags": []
          },
          "execution_count": 13
        }
      ]
    },
    {
      "cell_type": "code",
      "metadata": {
        "id": "kXIObGmuOT3-",
        "colab_type": "code",
        "colab": {}
      },
      "source": [
        "def get_Weight(comp_tic, days):\n",
        "    a = tech_indictor(df)[-days:]\n",
        "    b = df[['ma7','ma21','ema12', 'ema26', 'md', 'macd','upper_band','lower_band']][-days:]\n",
        "    data = b.copy()\n",
        "    \n",
        "    y = a['Close']\n",
        "    X = data\n",
        "\n",
        "    X_train_FI, X_test_FI, y_train_FI, y_test_FI = train_test_split(X, y, test_size=0.33, shuffle=False)\n",
        "\n",
        "    regressor = xgb.XGBRegressor(gamma=0.0,\n",
        "                                n_estimators=1500,\n",
        "                                base_score=0.7,\n",
        "                                colsample_bytree=1,\n",
        "                                learning_rate=0.03)\n",
        "\n",
        "    xgbModel = regressor.fit(X_train_FI,y_train_FI, \\\n",
        "                            eval_set = [(X_train_FI, y_train_FI), (X_test_FI, y_test_FI)], \\\n",
        "                            verbose=False)\n",
        "\n",
        "    eval_result = regressor.evals_result()\n",
        "    training_rounds = range(len(eval_result['validation_0']['rmse']))\n",
        "\n",
        "    plt.scatter(x=training_rounds,y=eval_result['validation_0']['rmse'],label='Training Error')\n",
        "    plt.scatter(x=training_rounds,y=eval_result['validation_1']['rmse'],label='Validation Error')\n",
        "    plt.xlabel('Iterations')\n",
        "    plt.ylabel('RMSE')\n",
        "    plt.title('Training Vs Validation Error')\n",
        "    plt.legend()\n",
        "    plt.show()\n",
        "\n",
        "    fig = plt.figure(figsize=(8,8))\n",
        "    plt.xticks(rotation='vertical')\n",
        "    plt.bar([i for i in range(len(xgbModel.feature_importances_))], xgbModel.feature_importances_.tolist(), tick_label=X_test_FI.columns)\n",
        "    plt.title('Figure 6: Feature importance of the technical indicators.')\n",
        "    plt.show()"
      ],
      "execution_count": 0,
      "outputs": []
    },
    {
      "cell_type": "code",
      "metadata": {
        "id": "YhEeygYJiOBu",
        "colab_type": "code",
        "colab": {}
      },
      "source": [
        "from __future__ import print_function\n",
        "#%matplotlib inline \n",
        "import argparse\n",
        "import os\n",
        "import random\n",
        "import torch\n",
        "import torch.nn as nn\n",
        "import torch.nn.parallel\n",
        "import torch.backends.cudnn as cudnn\n",
        "import torch.optim as optim\n",
        "import torchvision.utils as vutils\n",
        "from torch.utils.data import DataLoader, Dataset\n",
        "import numpy as np\n",
        "import matplotlib.pyplot as plt\n",
        "import matplotlib.animation as animation\n",
        "from IPython.display import HTML\n",
        "from numpy import zeros, newaxis\n",
        "\n",
        "from tqdm import tqdm"
      ],
      "execution_count": 0,
      "outputs": []
    },
    {
      "cell_type": "code",
      "metadata": {
        "id": "FDM_o-FKiJmk",
        "colab_type": "code",
        "colab": {}
      },
      "source": [
        "class Generator(nn.Module):\n",
        "\n",
        "    def __init__(self, input_size, hidden_dim, output_size, ngpu):\n",
        "        super(Generator, self).__init__()\n",
        "        self.ngpu = ngpu\n",
        "        self.hidden_dim = hidden_dim\n",
        "\n",
        "        self.lstm = nn.LSTM(input_size, hidden_dim)  # TNC is not needed it is a specific layout to MXNet\n",
        "        self.linear = nn.Linear(hidden_dim, output_size, bias=False)\n",
        "\n",
        "\n",
        "    def forward(self, input):\n",
        "        x, _ = self.lstm(input)\n",
        "        # x = x[:, -1, :]\n",
        "        x = torch.relu(x)\n",
        "        x = self.linear(x)\n",
        "        # x = self.softmax(x)\n",
        "        return x\n",
        "\n",
        "class Discriminator(nn.Module):\n",
        "    def __init__(self, ngpu):\n",
        "        super(Discriminator, self).__init__()\n",
        "        self.ngpu = ngpu\n",
        "        self.main = nn.Sequential(\n",
        "            # input is (nc) x 64 x 64\n",
        "            nn.Conv1d(nc, 32, 1, 1, bias=False),\n",
        "            nn.LeakyReLU(0.01, inplace=False),\n",
        "            \n",
        "            # state size. (ndf) x 32 x 32\n",
        "            nn.Conv1d(32, 64, 1, 1, bias=False),\n",
        "            nn.LeakyReLU(0.01, inplace=False),\n",
        "            nn.BatchNorm1d(64, momentum=0.9, affine=False, track_running_stats=False), #affine = gamma & channels\n",
        "            \n",
        "            # state size. (ndf*2) x 16 x 16\n",
        "            nn.Conv1d(64, 1, 1, 1, bias=False),\n",
        "            nn.LeakyReLU(0.01, inplace=False),\n",
        "            nn.BatchNorm1d(1, momentum=0.9, affine=False, track_running_stats=False), \n",
        "\n",
        "            nn.Linear(18, 50, bias=False),\n",
        "            nn.BatchNorm1d(64, momentum=0.9, affine=False, track_running_stats=False), \n",
        "            nn.LeakyReLU(0.01, inplace=False),\n",
        "            \n",
        "            nn.Linear(50, 30, bias=False),\n",
        "            # nn.ReLU(),\n",
        "            nn.Linear(30, 1, bias=False),\n",
        "            nn.Sigmoid()\n",
        "        )\n",
        "\n",
        "    def forward(self, input):\n",
        "        a = self.main(input)\n",
        "        x = a.view(a.size(0), -1)\n",
        "        return x"
      ],
      "execution_count": 0,
      "outputs": []
    },
    {
      "cell_type": "code",
      "metadata": {
        "id": "ASnf88QQZtb2",
        "colab_type": "code",
        "outputId": "9cc5cc5c-3c05-4ede-9635-dc74eede0657",
        "colab": {
          "base_uri": "https://localhost:8080/",
          "height": 408
        }
      },
      "source": [
        "device = torch.device(\"cuda:0\")\n",
        "# device = torch.device(\"cpu\")\n",
        "\n",
        "netG = Generator(18, 50, 18, 1).to(device)\n",
        "print(netG)\n",
        "\n",
        "nc = 1\n",
        "ndf = 64\n",
        "netD = Discriminator(1).to(device)\n",
        "print(netD)\n",
        "\n",
        "if torch.cuda.is_available():\n",
        "    netG.cuda\n",
        "    netD.cuda\n",
        "    print(\"Generator and Descriminator Cuda Core is active.\")"
      ],
      "execution_count": 63,
      "outputs": [
        {
          "output_type": "stream",
          "text": [
            "Generator(\n",
            "  (lstm): LSTM(18, 50)\n",
            "  (linear): Linear(in_features=50, out_features=18, bias=False)\n",
            ")\n",
            "Discriminator(\n",
            "  (main): Sequential(\n",
            "    (0): Conv1d(1, 32, kernel_size=(1,), stride=(1,), bias=False)\n",
            "    (1): LeakyReLU(negative_slope=0.01)\n",
            "    (2): Conv1d(32, 64, kernel_size=(1,), stride=(1,), bias=False)\n",
            "    (3): LeakyReLU(negative_slope=0.01)\n",
            "    (4): BatchNorm1d(64, eps=1e-05, momentum=0.9, affine=False, track_running_stats=False)\n",
            "    (5): Conv1d(64, 1, kernel_size=(1,), stride=(1,), bias=False)\n",
            "    (6): LeakyReLU(negative_slope=0.01)\n",
            "    (7): BatchNorm1d(1, eps=1e-05, momentum=0.9, affine=False, track_running_stats=False)\n",
            "    (8): Linear(in_features=18, out_features=50, bias=False)\n",
            "    (9): BatchNorm1d(64, eps=1e-05, momentum=0.9, affine=False, track_running_stats=False)\n",
            "    (10): LeakyReLU(negative_slope=0.01)\n",
            "    (11): Linear(in_features=50, out_features=30, bias=False)\n",
            "    (12): Linear(in_features=30, out_features=1, bias=False)\n",
            "    (13): Sigmoid()\n",
            "  )\n",
            ")\n",
            "Generator and Descriminator Cuda Core is active.\n"
          ],
          "name": "stdout"
        }
      ]
    },
    {
      "cell_type": "code",
      "metadata": {
        "id": "AwZf-asS5sum",
        "colab_type": "code",
        "colab": {}
      },
      "source": [
        "criterion = nn.BCELoss()\n",
        "\n",
        "# Create batch of latent vectors that we will use to visualize\n",
        "#  the progression of the generator\n",
        "fixed_noise = torch.randn(128, nc, 18, device=device)\n",
        "\n",
        "# Establish convention for real and fake labels during training\n",
        "real_label = 1\n",
        "fake_label = 0\n",
        "\n",
        "\n",
        "# Setup Adam optimizers for both G and D\n",
        "lr = 0.005\n",
        "beta1 = 0.5\n",
        "optimizerD = optim.Adam(netD.parameters(), lr=lr, betas=(beta1, 0.999))\n",
        "optimizerG = optim.Adam(netG.parameters(), lr=lr, betas=(beta1, 0.999))\n",
        "\n",
        "# Number of workers for dataloader\n",
        "workers = 2\n",
        "\n",
        "# Batch size during training\n",
        "batch_size = 128\n",
        "\n",
        "# Size of feature maps in generator\n",
        "ngf = 32\n",
        "\n",
        "# Number of training epochs\n",
        "num_epochs = 5000\n",
        "\n",
        "nz = 18"
      ],
      "execution_count": 0,
      "outputs": []
    },
    {
      "cell_type": "code",
      "metadata": {
        "id": "492CR7wdLhZm",
        "colab_type": "code",
        "outputId": "b830f29e-d745-4845-a42b-6bffdc5bd096",
        "colab": {
          "base_uri": "https://localhost:8080/",
          "height": 333
        }
      },
      "source": [
        "def show_data_shape():    \n",
        "    x_data = df.drop(columns=[\"y_data\", \"Date\"]).values\n",
        "    print(\"x_data shape\" + str(x_data.shape))\n",
        "    # b = x_data[newaxis, :, :]\n",
        "    # b.shape\n",
        "\n",
        "    # x_data = torch.tensor(df.drop(columns=[\"y_data\", \"Date\"]).values)\n",
        "    # y_data = torch.tensor(df[\"y_data\"].values)\n",
        "    # x_data.shape\n",
        "\n",
        "    y_data = df[\"y_data\"].values\n",
        "    y_data = y_data.reshape(data, -1, 1)\n",
        "    # y_data = y_data[newaxis, :, :]\n",
        "    print(\"y_data shape\" + str(y_data.shape))\n",
        "show_data_shape()"
      ],
      "execution_count": 0,
      "outputs": [
        {
          "output_type": "stream",
          "text": [
            "x_data shape(9795, 18)\n"
          ],
          "name": "stdout"
        },
        {
          "output_type": "error",
          "ename": "ValueError",
          "evalue": "ignored",
          "traceback": [
            "\u001b[0;31m---------------------------------------------------------------------------\u001b[0m",
            "\u001b[0;31mValueError\u001b[0m                                Traceback (most recent call last)",
            "\u001b[0;32m<ipython-input-38-a066aaf40ce1>\u001b[0m in \u001b[0;36m<module>\u001b[0;34m()\u001b[0m\n\u001b[1;32m     13\u001b[0m     \u001b[0;31m# y_data = y_data[newaxis, :, :]\u001b[0m\u001b[0;34m\u001b[0m\u001b[0;34m\u001b[0m\u001b[0;34m\u001b[0m\u001b[0m\n\u001b[1;32m     14\u001b[0m     \u001b[0mprint\u001b[0m\u001b[0;34m(\u001b[0m\u001b[0;34m\"y_data shape\"\u001b[0m \u001b[0;34m+\u001b[0m \u001b[0mstr\u001b[0m\u001b[0;34m(\u001b[0m\u001b[0my_data\u001b[0m\u001b[0;34m.\u001b[0m\u001b[0mshape\u001b[0m\u001b[0;34m)\u001b[0m\u001b[0;34m)\u001b[0m\u001b[0;34m\u001b[0m\u001b[0;34m\u001b[0m\u001b[0m\n\u001b[0;32m---> 15\u001b[0;31m \u001b[0mshow_data_shape\u001b[0m\u001b[0;34m(\u001b[0m\u001b[0;34m)\u001b[0m\u001b[0;34m\u001b[0m\u001b[0;34m\u001b[0m\u001b[0m\n\u001b[0m",
            "\u001b[0;32m<ipython-input-38-a066aaf40ce1>\u001b[0m in \u001b[0;36mshow_data_shape\u001b[0;34m()\u001b[0m\n\u001b[1;32m     10\u001b[0m \u001b[0;34m\u001b[0m\u001b[0m\n\u001b[1;32m     11\u001b[0m     \u001b[0my_data\u001b[0m \u001b[0;34m=\u001b[0m \u001b[0mdf\u001b[0m\u001b[0;34m[\u001b[0m\u001b[0;34m\"y_data\"\u001b[0m\u001b[0;34m]\u001b[0m\u001b[0;34m.\u001b[0m\u001b[0mvalues\u001b[0m\u001b[0;34m\u001b[0m\u001b[0;34m\u001b[0m\u001b[0m\n\u001b[0;32m---> 12\u001b[0;31m     \u001b[0my_data\u001b[0m \u001b[0;34m=\u001b[0m \u001b[0my_data\u001b[0m\u001b[0;34m.\u001b[0m\u001b[0mreshape\u001b[0m\u001b[0;34m(\u001b[0m\u001b[0;36m365\u001b[0m\u001b[0;34m,\u001b[0m \u001b[0;34m-\u001b[0m\u001b[0;36m1\u001b[0m\u001b[0;34m,\u001b[0m \u001b[0;36m1\u001b[0m\u001b[0;34m)\u001b[0m\u001b[0;34m\u001b[0m\u001b[0;34m\u001b[0m\u001b[0m\n\u001b[0m\u001b[1;32m     13\u001b[0m     \u001b[0;31m# y_data = y_data[newaxis, :, :]\u001b[0m\u001b[0;34m\u001b[0m\u001b[0;34m\u001b[0m\u001b[0;34m\u001b[0m\u001b[0m\n\u001b[1;32m     14\u001b[0m     \u001b[0mprint\u001b[0m\u001b[0;34m(\u001b[0m\u001b[0;34m\"y_data shape\"\u001b[0m \u001b[0;34m+\u001b[0m \u001b[0mstr\u001b[0m\u001b[0;34m(\u001b[0m\u001b[0my_data\u001b[0m\u001b[0;34m.\u001b[0m\u001b[0mshape\u001b[0m\u001b[0;34m)\u001b[0m\u001b[0;34m)\u001b[0m\u001b[0;34m\u001b[0m\u001b[0;34m\u001b[0m\u001b[0m\n",
            "\u001b[0;31mValueError\u001b[0m: cannot reshape array of size 9795 into shape (365,newaxis,1)"
          ]
        }
      ]
    },
    {
      "cell_type": "code",
      "metadata": {
        "id": "msbd7C6U4-HY",
        "colab_type": "code",
        "outputId": "5e9d2158-5d9e-4f7d-f5dd-93c2a93f0607",
        "colab": {
          "base_uri": "https://localhost:8080/",
          "height": 34
        }
      },
      "source": [
        "df.shape"
      ],
      "execution_count": 22,
      "outputs": [
        {
          "output_type": "execute_result",
          "data": {
            "text/plain": [
              "(365, 20)"
            ]
          },
          "metadata": {
            "tags": []
          },
          "execution_count": 22
        }
      ]
    },
    {
      "cell_type": "code",
      "metadata": {
        "id": "M9kD8vR6_bcz",
        "colab_type": "code",
        "colab": {}
      },
      "source": [
        "class Feature_data_loader(Dataset):\n",
        "\n",
        "    def __init__(self):\n",
        "        self.len = df.shape[0]\n",
        "        self.x_data = df.drop(columns=[\"y_data\", \"Date\"]).values\n",
        "        self.x_data = self.x_data.reshape(365, -1, 18)\n",
        "        self.x_data = torch.tensor(self.x_data)\n",
        "        self.y_data = df[\"y_data\"].values\n",
        "        self.y_data = self.y_data.reshape(365, -1, 1)\n",
        "        self.y_data = torch.tensor(self.y_data)\n",
        "\n",
        "    def __getitem__(self, index):\n",
        "        return self.x_data[index], self.y_data[index]\n",
        "\n",
        "    def __len__(self):\n",
        "        return self.len\n",
        "\n",
        "dataset = Feature_data_loader()\n",
        "dataloader = DataLoader(dataset=dataset, \n",
        "                        batch_size=batch_size,\n",
        "                        shuffle=False, \n",
        "                        num_workers=workers)"
      ],
      "execution_count": 0,
      "outputs": []
    },
    {
      "cell_type": "code",
      "metadata": {
        "colab_type": "code",
        "id": "LFzWYIvolWQH",
        "colab": {
          "base_uri": "https://localhost:8080/",
          "height": 68
        },
        "outputId": "30ec6ea3-8222-4205-a22a-c15c7de1bb5f"
      },
      "source": [
        "for i, data in enumerate(dataloader, 0):  #没用\n",
        "\n",
        "    netD.zero_grad()\n",
        "    # Format batch\n",
        "    real_cpu = data[0].to(device, dtype=torch.float)\n",
        "    b_size = real_cpu.size(0)\n",
        "    label = torch.full((b_size,), real_label, device=device)\n",
        "    # Forward pass real batch through D\n",
        "    output = netD(real_cpu).view(-1)\n",
        "    # Calculate loss on all-real batch\n",
        "    print(output.shape)\n",
        "    errD_real = criterion(output, label)\n",
        "\n",
        "    # print(output.shape)\n",
        "\n",
        "    # print(\"real_cpu shape: \" + str(real_cpu.shape))\n",
        "    # print(\"label.shape: \" + str(label.shape) + \"\\n\")\n",
        "\n",
        "    # output = netD(real_cpu).view(-1)\n",
        "    # Calculate loss on all-real batch\n",
        "    # errD_real = criterion(output, label)\n",
        "    # Calculate gradients for D in backward pass\n",
        "    # errD_real.backward()\n",
        "    # D_x = output.mean().item()\n",
        "    # clear_output()"
      ],
      "execution_count": 40,
      "outputs": [
        {
          "output_type": "stream",
          "text": [
            "torch.Size([128])\n",
            "torch.Size([128])\n",
            "torch.Size([109])\n"
          ],
          "name": "stdout"
        }
      ]
    },
    {
      "cell_type": "code",
      "metadata": {
        "id": "o7NE89xT4bN2",
        "colab_type": "code",
        "colab": {}
      },
      "source": [
        "img_list = []\n",
        "G_losses = []\n",
        "D_losses = []\n",
        "iters = 0\n",
        "\n",
        "print(\"Starting Training Loop...\")\n",
        "# For each epoch\n",
        "\n",
        "for epoch in tqdm(range(num_epochs)):\n",
        "    # For each batch in the dataloader\n",
        "    for i, data in enumerate(dataloader, 0):\n",
        "\n",
        "        netD.zero_grad()\n",
        "        # Format batch\n",
        "        real_cpu = data[0].to(device, dtype=torch.float)\n",
        "        b_size = real_cpu.size(0)\n",
        "        label = torch.full((b_size,), real_label, device=device)\n",
        "        # Forward pass real batch through D\n",
        "        output = netD(real_cpu).view(-1)\n",
        "        # Calculate loss on all-real batch\n",
        "        errD_real = criterion(output, label)\n",
        "        # Calculate gradients for D in backward pass\n",
        "        errD_real.backward()\n",
        "        D_x = output.mean().item()\n",
        "\n",
        "        ## Train with all-fake batch\n",
        "        # Generate batch of latent vectors\n",
        "        noise = torch.randn(b_size, 1, 18, device=device)\n",
        "\n",
        "        # Generate fake image batch with G\n",
        "        fake = netG(noise)\n",
        "        label.fill_(fake_label)\n",
        "        # Classify all fake batch with D\n",
        "\n",
        "        output = netD(fake.detach()).view(-1)\n",
        "        # Calculate D's loss on the all-fake batch\n",
        "        errD_fake = criterion(output, label)\n",
        "        # Calculate the gradients for this batch\n",
        "        errD_fake.backward()\n",
        "        D_G_z1 = output.mean().item()\n",
        "        # Add the gradients from the all-real and all-fake batches\n",
        "        errD = errD_real + errD_fake\n",
        "        # Update D\n",
        "        optimizerD.step()\n",
        "\n",
        "        ###########################\n",
        "        # (2) Update G network: maximize log(D(G(z)))\n",
        "        ###########################\n",
        "        netG.zero_grad()\n",
        "        label.fill_(real_label)  # fake labels are real for generator cost\n",
        "        # Since we just updated D, perform another forward pass of all-fake batch through D\n",
        "        output = netD(fake).view(-1)\n",
        "        # Calculate G's loss based on this output\n",
        "        errG = criterion(output, label)\n",
        "        # Calculate gradients for G\n",
        "        errG.backward()\n",
        "        D_G_z2 = output.mean().item()\n",
        "        # Update G\n",
        "        optimizerG.step()\n",
        "        # Output training stats\n",
        "        if i % 500 == 0:\n",
        "            print('[%d/%d][%d/%d]\\tLoss_D: %.4f\\tLoss_G: %.4f\\tD(x): %.4f\\tD(G(z)): %.4f / %.4f'\n",
        "                  % (epoch, num_epochs, i, len(dataloader),\n",
        "                     errD.item(), errG.item(), D_x, D_G_z1, D_G_z2))\n",
        "\n",
        "        # Save Losses for plotting later\n",
        "        G_losses.append(errG.item())\n",
        "        D_losses.append(errD.item())\n",
        "\n",
        "        # Check how the generator is doing by saving G's output on fixed_noise\n",
        "        if (iters % 500 == 0) or ((epoch == num_epochs-1) and (i == len(dataloader)-1)):\n",
        "            with torch.no_grad():\n",
        "                fake = netG(fixed_noise).detach().cpu()\n",
        "            img_list.append(vutils.make_grid(fake, padding=2, normalize=True))\n",
        "\n",
        "        iters += 1"
      ],
      "execution_count": 0,
      "outputs": []
    },
    {
      "cell_type": "code",
      "metadata": {
        "id": "bR41kXl3f90L",
        "colab_type": "code",
        "colab": {}
      },
      "source": [
        "from numpy import zeros, newaxis\n",
        "x_data = df.drop(columns=[\"y_data\", \"Date\"]).values\n",
        "x_data.shape\n",
        "b = x_data[newaxis, :, :]\n",
        "b.shape\n",
        "\n",
        "# x_data = torch.tensor(df.drop(columns=[\"y_data\", \"Date\"]).values)\n",
        "# y_data = torch.tensor(df[\"y_data\"].values)\n",
        "# x_data.shape"
      ],
      "execution_count": 0,
      "outputs": []
    },
    {
      "cell_type": "code",
      "metadata": {
        "id": "ACEiACpaOyTj",
        "colab_type": "code",
        "outputId": "53ed26d7-6760-4b6a-bee9-ee21a6375044",
        "colab": {
          "base_uri": "https://localhost:8080/",
          "height": 231
        }
      },
      "source": [
        "class Generator(nn.Module):\n",
        "\n",
        "    def __init__(self, input_size, hidden_dim, output_size):\n",
        "        super(Generator, self).__init__()\n",
        "        self.hidden_dim = hidden_dim\n",
        "\n",
        "        self.lstm = nn.LSTM(input_size, hidden_dim) # TNC is not needed it is a specific layout to MXNet\n",
        "        self.linear = nn.Linear(hidden_dim, output_size, bias=False)\n",
        "\n",
        "\n",
        "    def forward(self, sentence):\n",
        "        x, _ = self.lstm(x)\n",
        "        # x = x[:, -1, :]\n",
        "        x = self.linear(x)\n",
        "        # x = self.softmax(x)\n",
        "        return x\n",
        "\n",
        "\n",
        "rnn = Generator(18, 64, 1)\n",
        "\n",
        "\n",
        "criterion = nn.BCELoss()\n",
        "  \n",
        "import torch.optim as optim\n",
        "\n",
        "# print(net.fc1.weight.requires_grad)\n",
        "# print(net.fc1.bias)\n",
        "\n",
        "optimizer = optim.Adam(rnn.parameters(), lr=0.001)\n",
        "\n",
        "  #optimizer.zero_grad()  # zero the gradient buffers\n",
        "for i in range(1000):\n",
        "  optimizer.zero_grad()\n",
        "  output = rnn(x_train)\n",
        "  #print(output.size())\n",
        "  loss = criterion(output, y_train)\n",
        "  if (i%50==0): print(loss, \"Train acc: %f, Test acc:%f\" % (acc(x_train, y_train), acc(x_test, y_test)))\n",
        "  loss.backward(retain_graph=True)\n",
        "  optimizer.step()"
      ],
      "execution_count": 0,
      "outputs": [
        {
          "output_type": "error",
          "ename": "NameError",
          "evalue": "ignored",
          "traceback": [
            "\u001b[0;31m---------------------------------------------------------------------------\u001b[0m",
            "\u001b[0;31mNameError\u001b[0m                                 Traceback (most recent call last)",
            "\u001b[0;32m<ipython-input-36-27fa1819183c>\u001b[0m in \u001b[0;36m<module>\u001b[0;34m()\u001b[0m\n\u001b[1;32m     32\u001b[0m \u001b[0;32mfor\u001b[0m \u001b[0mi\u001b[0m \u001b[0;32min\u001b[0m \u001b[0mrange\u001b[0m\u001b[0;34m(\u001b[0m\u001b[0;36m1000\u001b[0m\u001b[0;34m)\u001b[0m\u001b[0;34m:\u001b[0m\u001b[0;34m\u001b[0m\u001b[0;34m\u001b[0m\u001b[0m\n\u001b[1;32m     33\u001b[0m   \u001b[0moptimizer\u001b[0m\u001b[0;34m.\u001b[0m\u001b[0mzero_grad\u001b[0m\u001b[0;34m(\u001b[0m\u001b[0;34m)\u001b[0m\u001b[0;34m\u001b[0m\u001b[0;34m\u001b[0m\u001b[0m\n\u001b[0;32m---> 34\u001b[0;31m   \u001b[0moutput\u001b[0m \u001b[0;34m=\u001b[0m \u001b[0mrnn\u001b[0m\u001b[0;34m(\u001b[0m\u001b[0mx_train\u001b[0m\u001b[0;34m)\u001b[0m\u001b[0;34m\u001b[0m\u001b[0;34m\u001b[0m\u001b[0m\n\u001b[0m\u001b[1;32m     35\u001b[0m   \u001b[0;31m#print(output.size())\u001b[0m\u001b[0;34m\u001b[0m\u001b[0;34m\u001b[0m\u001b[0;34m\u001b[0m\u001b[0m\n\u001b[1;32m     36\u001b[0m   \u001b[0mloss\u001b[0m \u001b[0;34m=\u001b[0m \u001b[0mcriterion\u001b[0m\u001b[0;34m(\u001b[0m\u001b[0moutput\u001b[0m\u001b[0;34m,\u001b[0m \u001b[0my_train\u001b[0m\u001b[0;34m)\u001b[0m\u001b[0;34m\u001b[0m\u001b[0;34m\u001b[0m\u001b[0m\n",
            "\u001b[0;31mNameError\u001b[0m: name 'x_train' is not defined"
          ]
        }
      ]
    },
    {
      "cell_type": "code",
      "metadata": {
        "id": "POYxYVPF9B4I",
        "colab_type": "code",
        "colab": {}
      },
      "source": [
        ""
      ],
      "execution_count": 0,
      "outputs": []
    }
  ]
}